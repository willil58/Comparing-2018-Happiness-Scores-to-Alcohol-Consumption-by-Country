{
 "cells": [
  {
   "cell_type": "code",
   "execution_count": 1,
   "id": "a074a2b4",
   "metadata": {},
   "outputs": [],
   "source": [
    "import pandas as pd\n",
    "import numpy as np\n",
    "import scipy.stats as stats\n",
    "\n",
    "adf = pd.read_csv('alcohol.csv')"
   ]
  },
  {
   "cell_type": "markdown",
   "id": "184daa76",
   "metadata": {},
   "source": [
    "This is our database with the alcohol consumption per capita for countries"
   ]
  },
  {
   "cell_type": "code",
   "execution_count": 2,
   "id": "c220872e",
   "metadata": {},
   "outputs": [
    {
     "data": {
      "text/html": [
       "<div>\n",
       "<style scoped>\n",
       "    .dataframe tbody tr th:only-of-type {\n",
       "        vertical-align: middle;\n",
       "    }\n",
       "\n",
       "    .dataframe tbody tr th {\n",
       "        vertical-align: top;\n",
       "    }\n",
       "\n",
       "    .dataframe thead th {\n",
       "        text-align: right;\n",
       "    }\n",
       "</style>\n",
       "<table border=\"1\" class=\"dataframe\">\n",
       "  <thead>\n",
       "    <tr style=\"text-align: right;\">\n",
       "      <th></th>\n",
       "      <th>Entity</th>\n",
       "      <th>Code</th>\n",
       "      <th>Year</th>\n",
       "      <th>Total alcohol consumption per capita (liters of pure alcohol, projected estimates, 15+ years of age)</th>\n",
       "      <th>GDP per capita, PPP (constant 2017 international $)</th>\n",
       "      <th>Population (historical estimates)</th>\n",
       "      <th>Continent</th>\n",
       "    </tr>\n",
       "  </thead>\n",
       "  <tbody>\n",
       "    <tr>\n",
       "      <th>0</th>\n",
       "      <td>Abkhazia</td>\n",
       "      <td>OWID_ABK</td>\n",
       "      <td>2015</td>\n",
       "      <td>NaN</td>\n",
       "      <td>NaN</td>\n",
       "      <td>NaN</td>\n",
       "      <td>Asia</td>\n",
       "    </tr>\n",
       "    <tr>\n",
       "      <th>1</th>\n",
       "      <td>Afghanistan</td>\n",
       "      <td>AFG</td>\n",
       "      <td>2010</td>\n",
       "      <td>0.21</td>\n",
       "      <td>1957.029070</td>\n",
       "      <td>29185511.0</td>\n",
       "      <td>NaN</td>\n",
       "    </tr>\n",
       "    <tr>\n",
       "      <th>2</th>\n",
       "      <td>Afghanistan</td>\n",
       "      <td>AFG</td>\n",
       "      <td>2015</td>\n",
       "      <td>0.21</td>\n",
       "      <td>2068.265904</td>\n",
       "      <td>34413603.0</td>\n",
       "      <td>Asia</td>\n",
       "    </tr>\n",
       "    <tr>\n",
       "      <th>3</th>\n",
       "      <td>Afghanistan</td>\n",
       "      <td>AFG</td>\n",
       "      <td>2018</td>\n",
       "      <td>0.21</td>\n",
       "      <td>2033.804389</td>\n",
       "      <td>37171922.0</td>\n",
       "      <td>NaN</td>\n",
       "    </tr>\n",
       "    <tr>\n",
       "      <th>4</th>\n",
       "      <td>Afghanistan</td>\n",
       "      <td>AFG</td>\n",
       "      <td>2002</td>\n",
       "      <td>NaN</td>\n",
       "      <td>1189.784668</td>\n",
       "      <td>22600774.0</td>\n",
       "      <td>NaN</td>\n",
       "    </tr>\n",
       "  </tbody>\n",
       "</table>\n",
       "</div>"
      ],
      "text/plain": [
       "        Entity      Code  Year  \\\n",
       "0     Abkhazia  OWID_ABK  2015   \n",
       "1  Afghanistan       AFG  2010   \n",
       "2  Afghanistan       AFG  2015   \n",
       "3  Afghanistan       AFG  2018   \n",
       "4  Afghanistan       AFG  2002   \n",
       "\n",
       "   Total alcohol consumption per capita (liters of pure alcohol, projected estimates, 15+ years of age)  \\\n",
       "0                                                NaN                                                      \n",
       "1                                               0.21                                                      \n",
       "2                                               0.21                                                      \n",
       "3                                               0.21                                                      \n",
       "4                                                NaN                                                      \n",
       "\n",
       "   GDP per capita, PPP (constant 2017 international $)  \\\n",
       "0                                                NaN     \n",
       "1                                        1957.029070     \n",
       "2                                        2068.265904     \n",
       "3                                        2033.804389     \n",
       "4                                        1189.784668     \n",
       "\n",
       "   Population (historical estimates) Continent  \n",
       "0                                NaN      Asia  \n",
       "1                         29185511.0       NaN  \n",
       "2                         34413603.0      Asia  \n",
       "3                         37171922.0       NaN  \n",
       "4                         22600774.0       NaN  "
      ]
     },
     "execution_count": 2,
     "metadata": {},
     "output_type": "execute_result"
    }
   ],
   "source": [
    "adf.head()"
   ]
  },
  {
   "cell_type": "markdown",
   "id": "4b252d50",
   "metadata": {},
   "source": [
    "We need to change the column called Entity to Country or region so we can merge it with a df we will create later"
   ]
  },
  {
   "cell_type": "code",
   "execution_count": 3,
   "id": "aa97f45c",
   "metadata": {},
   "outputs": [],
   "source": [
    "adf.rename(columns = {'Entity':'Country or region'}, inplace = True)"
   ]
  },
  {
   "cell_type": "markdown",
   "id": "c5de32a5",
   "metadata": {},
   "source": [
    "We will check that it worked"
   ]
  },
  {
   "cell_type": "code",
   "execution_count": 4,
   "id": "5222fef4",
   "metadata": {},
   "outputs": [
    {
     "data": {
      "text/html": [
       "<div>\n",
       "<style scoped>\n",
       "    .dataframe tbody tr th:only-of-type {\n",
       "        vertical-align: middle;\n",
       "    }\n",
       "\n",
       "    .dataframe tbody tr th {\n",
       "        vertical-align: top;\n",
       "    }\n",
       "\n",
       "    .dataframe thead th {\n",
       "        text-align: right;\n",
       "    }\n",
       "</style>\n",
       "<table border=\"1\" class=\"dataframe\">\n",
       "  <thead>\n",
       "    <tr style=\"text-align: right;\">\n",
       "      <th></th>\n",
       "      <th>Country or region</th>\n",
       "      <th>Code</th>\n",
       "      <th>Year</th>\n",
       "      <th>Total alcohol consumption per capita (liters of pure alcohol, projected estimates, 15+ years of age)</th>\n",
       "      <th>GDP per capita, PPP (constant 2017 international $)</th>\n",
       "      <th>Population (historical estimates)</th>\n",
       "      <th>Continent</th>\n",
       "    </tr>\n",
       "  </thead>\n",
       "  <tbody>\n",
       "    <tr>\n",
       "      <th>0</th>\n",
       "      <td>Abkhazia</td>\n",
       "      <td>OWID_ABK</td>\n",
       "      <td>2015</td>\n",
       "      <td>NaN</td>\n",
       "      <td>NaN</td>\n",
       "      <td>NaN</td>\n",
       "      <td>Asia</td>\n",
       "    </tr>\n",
       "    <tr>\n",
       "      <th>1</th>\n",
       "      <td>Afghanistan</td>\n",
       "      <td>AFG</td>\n",
       "      <td>2010</td>\n",
       "      <td>0.21</td>\n",
       "      <td>1957.029070</td>\n",
       "      <td>29185511.0</td>\n",
       "      <td>NaN</td>\n",
       "    </tr>\n",
       "    <tr>\n",
       "      <th>2</th>\n",
       "      <td>Afghanistan</td>\n",
       "      <td>AFG</td>\n",
       "      <td>2015</td>\n",
       "      <td>0.21</td>\n",
       "      <td>2068.265904</td>\n",
       "      <td>34413603.0</td>\n",
       "      <td>Asia</td>\n",
       "    </tr>\n",
       "    <tr>\n",
       "      <th>3</th>\n",
       "      <td>Afghanistan</td>\n",
       "      <td>AFG</td>\n",
       "      <td>2018</td>\n",
       "      <td>0.21</td>\n",
       "      <td>2033.804389</td>\n",
       "      <td>37171922.0</td>\n",
       "      <td>NaN</td>\n",
       "    </tr>\n",
       "    <tr>\n",
       "      <th>4</th>\n",
       "      <td>Afghanistan</td>\n",
       "      <td>AFG</td>\n",
       "      <td>2002</td>\n",
       "      <td>NaN</td>\n",
       "      <td>1189.784668</td>\n",
       "      <td>22600774.0</td>\n",
       "      <td>NaN</td>\n",
       "    </tr>\n",
       "  </tbody>\n",
       "</table>\n",
       "</div>"
      ],
      "text/plain": [
       "  Country or region      Code  Year  \\\n",
       "0          Abkhazia  OWID_ABK  2015   \n",
       "1       Afghanistan       AFG  2010   \n",
       "2       Afghanistan       AFG  2015   \n",
       "3       Afghanistan       AFG  2018   \n",
       "4       Afghanistan       AFG  2002   \n",
       "\n",
       "   Total alcohol consumption per capita (liters of pure alcohol, projected estimates, 15+ years of age)  \\\n",
       "0                                                NaN                                                      \n",
       "1                                               0.21                                                      \n",
       "2                                               0.21                                                      \n",
       "3                                               0.21                                                      \n",
       "4                                                NaN                                                      \n",
       "\n",
       "   GDP per capita, PPP (constant 2017 international $)  \\\n",
       "0                                                NaN     \n",
       "1                                        1957.029070     \n",
       "2                                        2068.265904     \n",
       "3                                        2033.804389     \n",
       "4                                        1189.784668     \n",
       "\n",
       "   Population (historical estimates) Continent  \n",
       "0                                NaN      Asia  \n",
       "1                         29185511.0       NaN  \n",
       "2                         34413603.0      Asia  \n",
       "3                         37171922.0       NaN  \n",
       "4                         22600774.0       NaN  "
      ]
     },
     "execution_count": 4,
     "metadata": {},
     "output_type": "execute_result"
    }
   ],
   "source": [
    "adf.head()"
   ]
  },
  {
   "cell_type": "markdown",
   "id": "82b637ed",
   "metadata": {},
   "source": [
    "We only want the collumns for total alcohol consumption, the year, and Country or region so we will make a new dataframe"
   ]
  },
  {
   "cell_type": "code",
   "execution_count": 5,
   "id": "beea5cbf",
   "metadata": {},
   "outputs": [],
   "source": [
    "adf_edit = adf[['Country or region', 'Year', 'Total alcohol consumption per capita (liters of pure alcohol, projected estimates, 15+ years of age)']]"
   ]
  },
  {
   "cell_type": "code",
   "execution_count": 6,
   "id": "266eb370",
   "metadata": {},
   "outputs": [
    {
     "data": {
      "text/html": [
       "<div>\n",
       "<style scoped>\n",
       "    .dataframe tbody tr th:only-of-type {\n",
       "        vertical-align: middle;\n",
       "    }\n",
       "\n",
       "    .dataframe tbody tr th {\n",
       "        vertical-align: top;\n",
       "    }\n",
       "\n",
       "    .dataframe thead th {\n",
       "        text-align: right;\n",
       "    }\n",
       "</style>\n",
       "<table border=\"1\" class=\"dataframe\">\n",
       "  <thead>\n",
       "    <tr style=\"text-align: right;\">\n",
       "      <th></th>\n",
       "      <th>Country or region</th>\n",
       "      <th>Year</th>\n",
       "      <th>Total alcohol consumption per capita (liters of pure alcohol, projected estimates, 15+ years of age)</th>\n",
       "    </tr>\n",
       "  </thead>\n",
       "  <tbody>\n",
       "    <tr>\n",
       "      <th>0</th>\n",
       "      <td>Abkhazia</td>\n",
       "      <td>2015</td>\n",
       "      <td>NaN</td>\n",
       "    </tr>\n",
       "    <tr>\n",
       "      <th>1</th>\n",
       "      <td>Afghanistan</td>\n",
       "      <td>2010</td>\n",
       "      <td>0.21</td>\n",
       "    </tr>\n",
       "    <tr>\n",
       "      <th>2</th>\n",
       "      <td>Afghanistan</td>\n",
       "      <td>2015</td>\n",
       "      <td>0.21</td>\n",
       "    </tr>\n",
       "    <tr>\n",
       "      <th>3</th>\n",
       "      <td>Afghanistan</td>\n",
       "      <td>2018</td>\n",
       "      <td>0.21</td>\n",
       "    </tr>\n",
       "    <tr>\n",
       "      <th>4</th>\n",
       "      <td>Afghanistan</td>\n",
       "      <td>2002</td>\n",
       "      <td>NaN</td>\n",
       "    </tr>\n",
       "  </tbody>\n",
       "</table>\n",
       "</div>"
      ],
      "text/plain": [
       "  Country or region  Year  \\\n",
       "0          Abkhazia  2015   \n",
       "1       Afghanistan  2010   \n",
       "2       Afghanistan  2015   \n",
       "3       Afghanistan  2018   \n",
       "4       Afghanistan  2002   \n",
       "\n",
       "   Total alcohol consumption per capita (liters of pure alcohol, projected estimates, 15+ years of age)  \n",
       "0                                                NaN                                                     \n",
       "1                                               0.21                                                     \n",
       "2                                               0.21                                                     \n",
       "3                                               0.21                                                     \n",
       "4                                                NaN                                                     "
      ]
     },
     "execution_count": 6,
     "metadata": {},
     "output_type": "execute_result"
    }
   ],
   "source": [
    "adf_edit.head()"
   ]
  },
  {
   "cell_type": "markdown",
   "id": "76483330",
   "metadata": {},
   "source": [
    "We need to eliminate all rows with NaN as a value so we will make a new df"
   ]
  },
  {
   "cell_type": "code",
   "execution_count": 7,
   "id": "dfb1197a",
   "metadata": {},
   "outputs": [],
   "source": [
    "adf_edit2=adf_edit.dropna()"
   ]
  },
  {
   "cell_type": "code",
   "execution_count": 8,
   "id": "447ccb90",
   "metadata": {},
   "outputs": [
    {
     "data": {
      "text/html": [
       "<div>\n",
       "<style scoped>\n",
       "    .dataframe tbody tr th:only-of-type {\n",
       "        vertical-align: middle;\n",
       "    }\n",
       "\n",
       "    .dataframe tbody tr th {\n",
       "        vertical-align: top;\n",
       "    }\n",
       "\n",
       "    .dataframe thead th {\n",
       "        text-align: right;\n",
       "    }\n",
       "</style>\n",
       "<table border=\"1\" class=\"dataframe\">\n",
       "  <thead>\n",
       "    <tr style=\"text-align: right;\">\n",
       "      <th></th>\n",
       "      <th>Country or region</th>\n",
       "      <th>Year</th>\n",
       "      <th>Total alcohol consumption per capita (liters of pure alcohol, projected estimates, 15+ years of age)</th>\n",
       "    </tr>\n",
       "  </thead>\n",
       "  <tbody>\n",
       "    <tr>\n",
       "      <th>1</th>\n",
       "      <td>Afghanistan</td>\n",
       "      <td>2010</td>\n",
       "      <td>0.210000</td>\n",
       "    </tr>\n",
       "    <tr>\n",
       "      <th>2</th>\n",
       "      <td>Afghanistan</td>\n",
       "      <td>2015</td>\n",
       "      <td>0.210000</td>\n",
       "    </tr>\n",
       "    <tr>\n",
       "      <th>3</th>\n",
       "      <td>Afghanistan</td>\n",
       "      <td>2018</td>\n",
       "      <td>0.210000</td>\n",
       "    </tr>\n",
       "    <tr>\n",
       "      <th>519</th>\n",
       "      <td>Africa Eastern and Southern</td>\n",
       "      <td>2000</td>\n",
       "      <td>5.014051</td>\n",
       "    </tr>\n",
       "    <tr>\n",
       "      <th>520</th>\n",
       "      <td>Africa Eastern and Southern</td>\n",
       "      <td>2005</td>\n",
       "      <td>4.856588</td>\n",
       "    </tr>\n",
       "  </tbody>\n",
       "</table>\n",
       "</div>"
      ],
      "text/plain": [
       "               Country or region  Year  \\\n",
       "1                    Afghanistan  2010   \n",
       "2                    Afghanistan  2015   \n",
       "3                    Afghanistan  2018   \n",
       "519  Africa Eastern and Southern  2000   \n",
       "520  Africa Eastern and Southern  2005   \n",
       "\n",
       "     Total alcohol consumption per capita (liters of pure alcohol, projected estimates, 15+ years of age)  \n",
       "1                                             0.210000                                                     \n",
       "2                                             0.210000                                                     \n",
       "3                                             0.210000                                                     \n",
       "519                                           5.014051                                                     \n",
       "520                                           4.856588                                                     "
      ]
     },
     "execution_count": 8,
     "metadata": {},
     "output_type": "execute_result"
    }
   ],
   "source": [
    "adf_edit2.head()"
   ]
  },
  {
   "cell_type": "markdown",
   "id": "db0429fd",
   "metadata": {},
   "source": [
    "For our sample, we only want data from 2018 so we will again make a new dataframe"
   ]
  },
  {
   "cell_type": "code",
   "execution_count": 9,
   "id": "0ec3360e",
   "metadata": {},
   "outputs": [],
   "source": [
    "adf_2018 = adf_edit2[adf_edit2[\"Year\"] == 2018]"
   ]
  },
  {
   "cell_type": "code",
   "execution_count": 10,
   "id": "9b7087cb",
   "metadata": {},
   "outputs": [
    {
     "data": {
      "text/html": [
       "<div>\n",
       "<style scoped>\n",
       "    .dataframe tbody tr th:only-of-type {\n",
       "        vertical-align: middle;\n",
       "    }\n",
       "\n",
       "    .dataframe tbody tr th {\n",
       "        vertical-align: top;\n",
       "    }\n",
       "\n",
       "    .dataframe thead th {\n",
       "        text-align: right;\n",
       "    }\n",
       "</style>\n",
       "<table border=\"1\" class=\"dataframe\">\n",
       "  <thead>\n",
       "    <tr style=\"text-align: right;\">\n",
       "      <th></th>\n",
       "      <th>Country or region</th>\n",
       "      <th>Year</th>\n",
       "      <th>Total alcohol consumption per capita (liters of pure alcohol, projected estimates, 15+ years of age)</th>\n",
       "    </tr>\n",
       "  </thead>\n",
       "  <tbody>\n",
       "    <tr>\n",
       "      <th>3</th>\n",
       "      <td>Afghanistan</td>\n",
       "      <td>2018</td>\n",
       "      <td>0.210000</td>\n",
       "    </tr>\n",
       "    <tr>\n",
       "      <th>523</th>\n",
       "      <td>Africa Eastern and Southern</td>\n",
       "      <td>2018</td>\n",
       "      <td>5.170911</td>\n",
       "    </tr>\n",
       "    <tr>\n",
       "      <th>554</th>\n",
       "      <td>Africa Western and Central</td>\n",
       "      <td>2018</td>\n",
       "      <td>6.835266</td>\n",
       "    </tr>\n",
       "    <tr>\n",
       "      <th>586</th>\n",
       "      <td>Albania</td>\n",
       "      <td>2018</td>\n",
       "      <td>7.170000</td>\n",
       "    </tr>\n",
       "    <tr>\n",
       "      <th>845</th>\n",
       "      <td>Algeria</td>\n",
       "      <td>2018</td>\n",
       "      <td>0.950000</td>\n",
       "    </tr>\n",
       "    <tr>\n",
       "      <th>1218</th>\n",
       "      <td>Andorra</td>\n",
       "      <td>2018</td>\n",
       "      <td>11.020000</td>\n",
       "    </tr>\n",
       "    <tr>\n",
       "      <th>1477</th>\n",
       "      <td>Angola</td>\n",
       "      <td>2018</td>\n",
       "      <td>6.940000</td>\n",
       "    </tr>\n",
       "    <tr>\n",
       "      <th>1858</th>\n",
       "      <td>Antigua and Barbuda</td>\n",
       "      <td>2018</td>\n",
       "      <td>6.380000</td>\n",
       "    </tr>\n",
       "    <tr>\n",
       "      <th>2117</th>\n",
       "      <td>Arab World</td>\n",
       "      <td>2018</td>\n",
       "      <td>0.618598</td>\n",
       "    </tr>\n",
       "    <tr>\n",
       "      <th>2148</th>\n",
       "      <td>Argentina</td>\n",
       "      <td>2018</td>\n",
       "      <td>9.650000</td>\n",
       "    </tr>\n",
       "  </tbody>\n",
       "</table>\n",
       "</div>"
      ],
      "text/plain": [
       "                Country or region  Year  \\\n",
       "3                     Afghanistan  2018   \n",
       "523   Africa Eastern and Southern  2018   \n",
       "554    Africa Western and Central  2018   \n",
       "586                       Albania  2018   \n",
       "845                       Algeria  2018   \n",
       "1218                      Andorra  2018   \n",
       "1477                       Angola  2018   \n",
       "1858          Antigua and Barbuda  2018   \n",
       "2117                   Arab World  2018   \n",
       "2148                    Argentina  2018   \n",
       "\n",
       "      Total alcohol consumption per capita (liters of pure alcohol, projected estimates, 15+ years of age)  \n",
       "3                                              0.210000                                                     \n",
       "523                                            5.170911                                                     \n",
       "554                                            6.835266                                                     \n",
       "586                                            7.170000                                                     \n",
       "845                                            0.950000                                                     \n",
       "1218                                          11.020000                                                     \n",
       "1477                                           6.940000                                                     \n",
       "1858                                           6.380000                                                     \n",
       "2117                                           0.618598                                                     \n",
       "2148                                           9.650000                                                     "
      ]
     },
     "execution_count": 10,
     "metadata": {},
     "output_type": "execute_result"
    }
   ],
   "source": [
    "adf_2018.head(10)"
   ]
  },
  {
   "cell_type": "markdown",
   "id": "f00c72a2",
   "metadata": {},
   "source": [
    "Now I want to remove the year from this data frame as we know all the years = 2018 so there's no need to show it in the table"
   ]
  },
  {
   "cell_type": "code",
   "execution_count": 41,
   "id": "d827e3f0",
   "metadata": {},
   "outputs": [],
   "source": [
    "adf2_2018= adf_2018[['Country or region', 'Total alcohol consumption per capita (liters of pure alcohol, projected estimates, 15+ years of age)']]"
   ]
  },
  {
   "cell_type": "code",
   "execution_count": 43,
   "id": "473db2dc",
   "metadata": {},
   "outputs": [
    {
     "data": {
      "text/html": [
       "<div>\n",
       "<style scoped>\n",
       "    .dataframe tbody tr th:only-of-type {\n",
       "        vertical-align: middle;\n",
       "    }\n",
       "\n",
       "    .dataframe tbody tr th {\n",
       "        vertical-align: top;\n",
       "    }\n",
       "\n",
       "    .dataframe thead th {\n",
       "        text-align: right;\n",
       "    }\n",
       "</style>\n",
       "<table border=\"1\" class=\"dataframe\">\n",
       "  <thead>\n",
       "    <tr style=\"text-align: right;\">\n",
       "      <th></th>\n",
       "      <th>Country or region</th>\n",
       "      <th>Total alcohol consumption per capita (liters of pure alcohol, projected estimates, 15+ years of age)</th>\n",
       "    </tr>\n",
       "  </thead>\n",
       "  <tbody>\n",
       "    <tr>\n",
       "      <th>3</th>\n",
       "      <td>Afghanistan</td>\n",
       "      <td>0.210000</td>\n",
       "    </tr>\n",
       "    <tr>\n",
       "      <th>523</th>\n",
       "      <td>Africa Eastern and Southern</td>\n",
       "      <td>5.170911</td>\n",
       "    </tr>\n",
       "    <tr>\n",
       "      <th>554</th>\n",
       "      <td>Africa Western and Central</td>\n",
       "      <td>6.835266</td>\n",
       "    </tr>\n",
       "    <tr>\n",
       "      <th>586</th>\n",
       "      <td>Albania</td>\n",
       "      <td>7.170000</td>\n",
       "    </tr>\n",
       "    <tr>\n",
       "      <th>845</th>\n",
       "      <td>Algeria</td>\n",
       "      <td>0.950000</td>\n",
       "    </tr>\n",
       "    <tr>\n",
       "      <th>1218</th>\n",
       "      <td>Andorra</td>\n",
       "      <td>11.020000</td>\n",
       "    </tr>\n",
       "    <tr>\n",
       "      <th>1477</th>\n",
       "      <td>Angola</td>\n",
       "      <td>6.940000</td>\n",
       "    </tr>\n",
       "    <tr>\n",
       "      <th>1858</th>\n",
       "      <td>Antigua and Barbuda</td>\n",
       "      <td>6.380000</td>\n",
       "    </tr>\n",
       "    <tr>\n",
       "      <th>2117</th>\n",
       "      <td>Arab World</td>\n",
       "      <td>0.618598</td>\n",
       "    </tr>\n",
       "    <tr>\n",
       "      <th>2148</th>\n",
       "      <td>Argentina</td>\n",
       "      <td>9.650000</td>\n",
       "    </tr>\n",
       "  </tbody>\n",
       "</table>\n",
       "</div>"
      ],
      "text/plain": [
       "                Country or region  \\\n",
       "3                     Afghanistan   \n",
       "523   Africa Eastern and Southern   \n",
       "554    Africa Western and Central   \n",
       "586                       Albania   \n",
       "845                       Algeria   \n",
       "1218                      Andorra   \n",
       "1477                       Angola   \n",
       "1858          Antigua and Barbuda   \n",
       "2117                   Arab World   \n",
       "2148                    Argentina   \n",
       "\n",
       "      Total alcohol consumption per capita (liters of pure alcohol, projected estimates, 15+ years of age)  \n",
       "3                                              0.210000                                                     \n",
       "523                                            5.170911                                                     \n",
       "554                                            6.835266                                                     \n",
       "586                                            7.170000                                                     \n",
       "845                                            0.950000                                                     \n",
       "1218                                          11.020000                                                     \n",
       "1477                                           6.940000                                                     \n",
       "1858                                           6.380000                                                     \n",
       "2117                                           0.618598                                                     \n",
       "2148                                           9.650000                                                     "
      ]
     },
     "execution_count": 43,
     "metadata": {},
     "output_type": "execute_result"
    }
   ],
   "source": [
    "adf2_2018.head(10)"
   ]
  },
  {
   "cell_type": "markdown",
   "id": "a80e37d3",
   "metadata": {},
   "source": [
    "We are going to order the df by country name"
   ]
  },
  {
   "cell_type": "code",
   "execution_count": 44,
   "id": "5c7f751d",
   "metadata": {},
   "outputs": [],
   "source": [
    "order_adf_2018=adf2_2018.sort_values('Country or region')"
   ]
  },
  {
   "cell_type": "code",
   "execution_count": 45,
   "id": "1af8d121",
   "metadata": {},
   "outputs": [
    {
     "data": {
      "text/html": [
       "<div>\n",
       "<style scoped>\n",
       "    .dataframe tbody tr th:only-of-type {\n",
       "        vertical-align: middle;\n",
       "    }\n",
       "\n",
       "    .dataframe tbody tr th {\n",
       "        vertical-align: top;\n",
       "    }\n",
       "\n",
       "    .dataframe thead th {\n",
       "        text-align: right;\n",
       "    }\n",
       "</style>\n",
       "<table border=\"1\" class=\"dataframe\">\n",
       "  <thead>\n",
       "    <tr style=\"text-align: right;\">\n",
       "      <th></th>\n",
       "      <th>Country or region</th>\n",
       "      <th>Total alcohol consumption per capita (liters of pure alcohol, projected estimates, 15+ years of age)</th>\n",
       "    </tr>\n",
       "  </thead>\n",
       "  <tbody>\n",
       "    <tr>\n",
       "      <th>3</th>\n",
       "      <td>Afghanistan</td>\n",
       "      <td>0.210000</td>\n",
       "    </tr>\n",
       "    <tr>\n",
       "      <th>523</th>\n",
       "      <td>Africa Eastern and Southern</td>\n",
       "      <td>5.170911</td>\n",
       "    </tr>\n",
       "    <tr>\n",
       "      <th>554</th>\n",
       "      <td>Africa Western and Central</td>\n",
       "      <td>6.835266</td>\n",
       "    </tr>\n",
       "    <tr>\n",
       "      <th>586</th>\n",
       "      <td>Albania</td>\n",
       "      <td>7.170000</td>\n",
       "    </tr>\n",
       "    <tr>\n",
       "      <th>845</th>\n",
       "      <td>Algeria</td>\n",
       "      <td>0.950000</td>\n",
       "    </tr>\n",
       "  </tbody>\n",
       "</table>\n",
       "</div>"
      ],
      "text/plain": [
       "               Country or region  \\\n",
       "3                    Afghanistan   \n",
       "523  Africa Eastern and Southern   \n",
       "554   Africa Western and Central   \n",
       "586                      Albania   \n",
       "845                      Algeria   \n",
       "\n",
       "     Total alcohol consumption per capita (liters of pure alcohol, projected estimates, 15+ years of age)  \n",
       "3                                             0.210000                                                     \n",
       "523                                           5.170911                                                     \n",
       "554                                           6.835266                                                     \n",
       "586                                           7.170000                                                     \n",
       "845                                           0.950000                                                     "
      ]
     },
     "execution_count": 45,
     "metadata": {},
     "output_type": "execute_result"
    }
   ],
   "source": [
    "order_adf_2018.head()"
   ]
  },
  {
   "cell_type": "markdown",
   "id": "3f294d6b",
   "metadata": {},
   "source": [
    "We want to calculate the average alcohol consumption"
   ]
  },
  {
   "cell_type": "code",
   "execution_count": 46,
   "id": "6e633f0d",
   "metadata": {},
   "outputs": [
    {
     "data": {
      "text/plain": [
       "5.965732931054613"
      ]
     },
     "execution_count": 46,
     "metadata": {},
     "output_type": "execute_result"
    }
   ],
   "source": [
    "order_adf_2018['Total alcohol consumption per capita (liters of pure alcohol, projected estimates, 15+ years of age)'].mean()"
   ]
  },
  {
   "cell_type": "code",
   "execution_count": null,
   "id": "20f7fd02",
   "metadata": {},
   "outputs": [],
   "source": []
  },
  {
   "cell_type": "markdown",
   "id": "48a24fb8",
   "metadata": {},
   "source": [
    "Now we need to load our second df for 2018 happiness scores"
   ]
  },
  {
   "cell_type": "code",
   "execution_count": 47,
   "id": "5bc865ea",
   "metadata": {},
   "outputs": [],
   "source": [
    "hdf = pd.read_csv('happy_2018.csv')"
   ]
  },
  {
   "cell_type": "code",
   "execution_count": 48,
   "id": "64ee06fe",
   "metadata": {},
   "outputs": [
    {
     "data": {
      "text/html": [
       "<div>\n",
       "<style scoped>\n",
       "    .dataframe tbody tr th:only-of-type {\n",
       "        vertical-align: middle;\n",
       "    }\n",
       "\n",
       "    .dataframe tbody tr th {\n",
       "        vertical-align: top;\n",
       "    }\n",
       "\n",
       "    .dataframe thead th {\n",
       "        text-align: right;\n",
       "    }\n",
       "</style>\n",
       "<table border=\"1\" class=\"dataframe\">\n",
       "  <thead>\n",
       "    <tr style=\"text-align: right;\">\n",
       "      <th></th>\n",
       "      <th>Overall rank</th>\n",
       "      <th>Country or region</th>\n",
       "      <th>Score</th>\n",
       "      <th>GDP per capita</th>\n",
       "      <th>Social support</th>\n",
       "      <th>Healthy life expectancy</th>\n",
       "      <th>Freedom to make life choices</th>\n",
       "      <th>Generosity</th>\n",
       "      <th>Perceptions of corruption</th>\n",
       "    </tr>\n",
       "  </thead>\n",
       "  <tbody>\n",
       "    <tr>\n",
       "      <th>0</th>\n",
       "      <td>1</td>\n",
       "      <td>Finland</td>\n",
       "      <td>7.632</td>\n",
       "      <td>1.305</td>\n",
       "      <td>1.592</td>\n",
       "      <td>0.874</td>\n",
       "      <td>0.681</td>\n",
       "      <td>0.202</td>\n",
       "      <td>0.393</td>\n",
       "    </tr>\n",
       "    <tr>\n",
       "      <th>1</th>\n",
       "      <td>2</td>\n",
       "      <td>Norway</td>\n",
       "      <td>7.594</td>\n",
       "      <td>1.456</td>\n",
       "      <td>1.582</td>\n",
       "      <td>0.861</td>\n",
       "      <td>0.686</td>\n",
       "      <td>0.286</td>\n",
       "      <td>0.340</td>\n",
       "    </tr>\n",
       "    <tr>\n",
       "      <th>2</th>\n",
       "      <td>3</td>\n",
       "      <td>Denmark</td>\n",
       "      <td>7.555</td>\n",
       "      <td>1.351</td>\n",
       "      <td>1.590</td>\n",
       "      <td>0.868</td>\n",
       "      <td>0.683</td>\n",
       "      <td>0.284</td>\n",
       "      <td>0.408</td>\n",
       "    </tr>\n",
       "    <tr>\n",
       "      <th>3</th>\n",
       "      <td>4</td>\n",
       "      <td>Iceland</td>\n",
       "      <td>7.495</td>\n",
       "      <td>1.343</td>\n",
       "      <td>1.644</td>\n",
       "      <td>0.914</td>\n",
       "      <td>0.677</td>\n",
       "      <td>0.353</td>\n",
       "      <td>0.138</td>\n",
       "    </tr>\n",
       "    <tr>\n",
       "      <th>4</th>\n",
       "      <td>5</td>\n",
       "      <td>Switzerland</td>\n",
       "      <td>7.487</td>\n",
       "      <td>1.420</td>\n",
       "      <td>1.549</td>\n",
       "      <td>0.927</td>\n",
       "      <td>0.660</td>\n",
       "      <td>0.256</td>\n",
       "      <td>0.357</td>\n",
       "    </tr>\n",
       "  </tbody>\n",
       "</table>\n",
       "</div>"
      ],
      "text/plain": [
       "   Overall rank Country or region  Score  GDP per capita  Social support  \\\n",
       "0             1           Finland  7.632           1.305           1.592   \n",
       "1             2            Norway  7.594           1.456           1.582   \n",
       "2             3           Denmark  7.555           1.351           1.590   \n",
       "3             4           Iceland  7.495           1.343           1.644   \n",
       "4             5       Switzerland  7.487           1.420           1.549   \n",
       "\n",
       "   Healthy life expectancy  Freedom to make life choices  Generosity  \\\n",
       "0                    0.874                         0.681       0.202   \n",
       "1                    0.861                         0.686       0.286   \n",
       "2                    0.868                         0.683       0.284   \n",
       "3                    0.914                         0.677       0.353   \n",
       "4                    0.927                         0.660       0.256   \n",
       "\n",
       "   Perceptions of corruption  \n",
       "0                      0.393  \n",
       "1                      0.340  \n",
       "2                      0.408  \n",
       "3                      0.138  \n",
       "4                      0.357  "
      ]
     },
     "execution_count": 48,
     "metadata": {},
     "output_type": "execute_result"
    }
   ],
   "source": [
    "hdf.head()"
   ]
  },
  {
   "cell_type": "markdown",
   "id": "5a5976b1",
   "metadata": {},
   "source": [
    "We only want the columns for the country and the score so we will make a new df"
   ]
  },
  {
   "cell_type": "code",
   "execution_count": 49,
   "id": "d7efca65",
   "metadata": {},
   "outputs": [],
   "source": [
    "hdf2= hdf[['Country or region', 'Score']]"
   ]
  },
  {
   "cell_type": "code",
   "execution_count": 50,
   "id": "27c95216",
   "metadata": {},
   "outputs": [
    {
     "data": {
      "text/html": [
       "<div>\n",
       "<style scoped>\n",
       "    .dataframe tbody tr th:only-of-type {\n",
       "        vertical-align: middle;\n",
       "    }\n",
       "\n",
       "    .dataframe tbody tr th {\n",
       "        vertical-align: top;\n",
       "    }\n",
       "\n",
       "    .dataframe thead th {\n",
       "        text-align: right;\n",
       "    }\n",
       "</style>\n",
       "<table border=\"1\" class=\"dataframe\">\n",
       "  <thead>\n",
       "    <tr style=\"text-align: right;\">\n",
       "      <th></th>\n",
       "      <th>Country or region</th>\n",
       "      <th>Score</th>\n",
       "    </tr>\n",
       "  </thead>\n",
       "  <tbody>\n",
       "    <tr>\n",
       "      <th>0</th>\n",
       "      <td>Finland</td>\n",
       "      <td>7.632</td>\n",
       "    </tr>\n",
       "    <tr>\n",
       "      <th>1</th>\n",
       "      <td>Norway</td>\n",
       "      <td>7.594</td>\n",
       "    </tr>\n",
       "    <tr>\n",
       "      <th>2</th>\n",
       "      <td>Denmark</td>\n",
       "      <td>7.555</td>\n",
       "    </tr>\n",
       "    <tr>\n",
       "      <th>3</th>\n",
       "      <td>Iceland</td>\n",
       "      <td>7.495</td>\n",
       "    </tr>\n",
       "    <tr>\n",
       "      <th>4</th>\n",
       "      <td>Switzerland</td>\n",
       "      <td>7.487</td>\n",
       "    </tr>\n",
       "  </tbody>\n",
       "</table>\n",
       "</div>"
      ],
      "text/plain": [
       "  Country or region  Score\n",
       "0           Finland  7.632\n",
       "1            Norway  7.594\n",
       "2           Denmark  7.555\n",
       "3           Iceland  7.495\n",
       "4       Switzerland  7.487"
      ]
     },
     "execution_count": 50,
     "metadata": {},
     "output_type": "execute_result"
    }
   ],
   "source": [
    "hdf2.head()"
   ]
  },
  {
   "cell_type": "markdown",
   "id": "cffbc0f8",
   "metadata": {},
   "source": [
    "We are going to order the df by country name"
   ]
  },
  {
   "cell_type": "code",
   "execution_count": 51,
   "id": "8cefff21",
   "metadata": {},
   "outputs": [],
   "source": [
    "order_hdf=hdf2.sort_values('Country or region')"
   ]
  },
  {
   "cell_type": "code",
   "execution_count": 52,
   "id": "f586180f",
   "metadata": {},
   "outputs": [
    {
     "data": {
      "text/html": [
       "<div>\n",
       "<style scoped>\n",
       "    .dataframe tbody tr th:only-of-type {\n",
       "        vertical-align: middle;\n",
       "    }\n",
       "\n",
       "    .dataframe tbody tr th {\n",
       "        vertical-align: top;\n",
       "    }\n",
       "\n",
       "    .dataframe thead th {\n",
       "        text-align: right;\n",
       "    }\n",
       "</style>\n",
       "<table border=\"1\" class=\"dataframe\">\n",
       "  <thead>\n",
       "    <tr style=\"text-align: right;\">\n",
       "      <th></th>\n",
       "      <th>Country or region</th>\n",
       "      <th>Score</th>\n",
       "    </tr>\n",
       "  </thead>\n",
       "  <tbody>\n",
       "    <tr>\n",
       "      <th>144</th>\n",
       "      <td>Afghanistan</td>\n",
       "      <td>3.632</td>\n",
       "    </tr>\n",
       "    <tr>\n",
       "      <th>111</th>\n",
       "      <td>Albania</td>\n",
       "      <td>4.586</td>\n",
       "    </tr>\n",
       "    <tr>\n",
       "      <th>83</th>\n",
       "      <td>Algeria</td>\n",
       "      <td>5.295</td>\n",
       "    </tr>\n",
       "    <tr>\n",
       "      <th>141</th>\n",
       "      <td>Angola</td>\n",
       "      <td>3.795</td>\n",
       "    </tr>\n",
       "    <tr>\n",
       "      <th>28</th>\n",
       "      <td>Argentina</td>\n",
       "      <td>6.388</td>\n",
       "    </tr>\n",
       "    <tr>\n",
       "      <th>128</th>\n",
       "      <td>Armenia</td>\n",
       "      <td>4.321</td>\n",
       "    </tr>\n",
       "    <tr>\n",
       "      <th>9</th>\n",
       "      <td>Australia</td>\n",
       "      <td>7.272</td>\n",
       "    </tr>\n",
       "    <tr>\n",
       "      <th>11</th>\n",
       "      <td>Austria</td>\n",
       "      <td>7.139</td>\n",
       "    </tr>\n",
       "    <tr>\n",
       "      <th>86</th>\n",
       "      <td>Azerbaijan</td>\n",
       "      <td>5.201</td>\n",
       "    </tr>\n",
       "    <tr>\n",
       "      <th>42</th>\n",
       "      <td>Bahrain</td>\n",
       "      <td>6.105</td>\n",
       "    </tr>\n",
       "  </tbody>\n",
       "</table>\n",
       "</div>"
      ],
      "text/plain": [
       "    Country or region  Score\n",
       "144       Afghanistan  3.632\n",
       "111           Albania  4.586\n",
       "83            Algeria  5.295\n",
       "141            Angola  3.795\n",
       "28          Argentina  6.388\n",
       "128           Armenia  4.321\n",
       "9           Australia  7.272\n",
       "11            Austria  7.139\n",
       "86         Azerbaijan  5.201\n",
       "42            Bahrain  6.105"
      ]
     },
     "execution_count": 52,
     "metadata": {},
     "output_type": "execute_result"
    }
   ],
   "source": [
    "order_hdf.head(10)"
   ]
  },
  {
   "cell_type": "markdown",
   "id": "b2a3ad09",
   "metadata": {},
   "source": [
    "We want to calculate the average happyness score"
   ]
  },
  {
   "cell_type": "code",
   "execution_count": 53,
   "id": "1a38f8fe",
   "metadata": {},
   "outputs": [
    {
     "data": {
      "text/plain": [
       "5.375916666666666"
      ]
     },
     "execution_count": 53,
     "metadata": {},
     "output_type": "execute_result"
    }
   ],
   "source": [
    "order_hdf['Score'].mean()"
   ]
  },
  {
   "cell_type": "markdown",
   "id": "6cce3769",
   "metadata": {},
   "source": [
    "Our next step is to merge the two df into one"
   ]
  },
  {
   "cell_type": "code",
   "execution_count": 54,
   "id": "673a5cf8",
   "metadata": {},
   "outputs": [],
   "source": [
    "comb_df=pd.merge(order_adf_2018, order_hdf, how='outer', on='Country or region')"
   ]
  },
  {
   "cell_type": "code",
   "execution_count": 55,
   "id": "fea8e10d",
   "metadata": {},
   "outputs": [
    {
     "data": {
      "text/html": [
       "<div>\n",
       "<style scoped>\n",
       "    .dataframe tbody tr th:only-of-type {\n",
       "        vertical-align: middle;\n",
       "    }\n",
       "\n",
       "    .dataframe tbody tr th {\n",
       "        vertical-align: top;\n",
       "    }\n",
       "\n",
       "    .dataframe thead th {\n",
       "        text-align: right;\n",
       "    }\n",
       "</style>\n",
       "<table border=\"1\" class=\"dataframe\">\n",
       "  <thead>\n",
       "    <tr style=\"text-align: right;\">\n",
       "      <th></th>\n",
       "      <th>Country or region</th>\n",
       "      <th>Total alcohol consumption per capita (liters of pure alcohol, projected estimates, 15+ years of age)</th>\n",
       "      <th>Score</th>\n",
       "    </tr>\n",
       "  </thead>\n",
       "  <tbody>\n",
       "    <tr>\n",
       "      <th>0</th>\n",
       "      <td>Afghanistan</td>\n",
       "      <td>0.210000</td>\n",
       "      <td>3.632</td>\n",
       "    </tr>\n",
       "    <tr>\n",
       "      <th>1</th>\n",
       "      <td>Africa Eastern and Southern</td>\n",
       "      <td>5.170911</td>\n",
       "      <td>NaN</td>\n",
       "    </tr>\n",
       "    <tr>\n",
       "      <th>2</th>\n",
       "      <td>Africa Western and Central</td>\n",
       "      <td>6.835266</td>\n",
       "      <td>NaN</td>\n",
       "    </tr>\n",
       "    <tr>\n",
       "      <th>3</th>\n",
       "      <td>Albania</td>\n",
       "      <td>7.170000</td>\n",
       "      <td>4.586</td>\n",
       "    </tr>\n",
       "    <tr>\n",
       "      <th>4</th>\n",
       "      <td>Algeria</td>\n",
       "      <td>0.950000</td>\n",
       "      <td>5.295</td>\n",
       "    </tr>\n",
       "  </tbody>\n",
       "</table>\n",
       "</div>"
      ],
      "text/plain": [
       "             Country or region  \\\n",
       "0                  Afghanistan   \n",
       "1  Africa Eastern and Southern   \n",
       "2   Africa Western and Central   \n",
       "3                      Albania   \n",
       "4                      Algeria   \n",
       "\n",
       "   Total alcohol consumption per capita (liters of pure alcohol, projected estimates, 15+ years of age)  \\\n",
       "0                                           0.210000                                                      \n",
       "1                                           5.170911                                                      \n",
       "2                                           6.835266                                                      \n",
       "3                                           7.170000                                                      \n",
       "4                                           0.950000                                                      \n",
       "\n",
       "   Score  \n",
       "0  3.632  \n",
       "1    NaN  \n",
       "2    NaN  \n",
       "3  4.586  \n",
       "4  5.295  "
      ]
     },
     "execution_count": 55,
     "metadata": {},
     "output_type": "execute_result"
    }
   ],
   "source": [
    "comb_df.head()"
   ]
  },
  {
   "cell_type": "markdown",
   "id": "408ccfee",
   "metadata": {},
   "source": [
    "Now that they are merged, we need to eliminate any rows without a score and make a new df"
   ]
  },
  {
   "cell_type": "code",
   "execution_count": 56,
   "id": "4da4e288",
   "metadata": {},
   "outputs": [],
   "source": [
    "final_comb_df= comb_df.dropna()"
   ]
  },
  {
   "cell_type": "code",
   "execution_count": 57,
   "id": "6a70446e",
   "metadata": {},
   "outputs": [
    {
     "data": {
      "text/html": [
       "<div>\n",
       "<style scoped>\n",
       "    .dataframe tbody tr th:only-of-type {\n",
       "        vertical-align: middle;\n",
       "    }\n",
       "\n",
       "    .dataframe tbody tr th {\n",
       "        vertical-align: top;\n",
       "    }\n",
       "\n",
       "    .dataframe thead th {\n",
       "        text-align: right;\n",
       "    }\n",
       "</style>\n",
       "<table border=\"1\" class=\"dataframe\">\n",
       "  <thead>\n",
       "    <tr style=\"text-align: right;\">\n",
       "      <th></th>\n",
       "      <th>Country or region</th>\n",
       "      <th>Total alcohol consumption per capita (liters of pure alcohol, projected estimates, 15+ years of age)</th>\n",
       "      <th>Score</th>\n",
       "    </tr>\n",
       "  </thead>\n",
       "  <tbody>\n",
       "    <tr>\n",
       "      <th>0</th>\n",
       "      <td>Afghanistan</td>\n",
       "      <td>0.21</td>\n",
       "      <td>3.632</td>\n",
       "    </tr>\n",
       "    <tr>\n",
       "      <th>3</th>\n",
       "      <td>Albania</td>\n",
       "      <td>7.17</td>\n",
       "      <td>4.586</td>\n",
       "    </tr>\n",
       "    <tr>\n",
       "      <th>4</th>\n",
       "      <td>Algeria</td>\n",
       "      <td>0.95</td>\n",
       "      <td>5.295</td>\n",
       "    </tr>\n",
       "    <tr>\n",
       "      <th>6</th>\n",
       "      <td>Angola</td>\n",
       "      <td>6.94</td>\n",
       "      <td>3.795</td>\n",
       "    </tr>\n",
       "    <tr>\n",
       "      <th>9</th>\n",
       "      <td>Argentina</td>\n",
       "      <td>9.65</td>\n",
       "      <td>6.388</td>\n",
       "    </tr>\n",
       "  </tbody>\n",
       "</table>\n",
       "</div>"
      ],
      "text/plain": [
       "  Country or region  \\\n",
       "0       Afghanistan   \n",
       "3           Albania   \n",
       "4           Algeria   \n",
       "6            Angola   \n",
       "9         Argentina   \n",
       "\n",
       "   Total alcohol consumption per capita (liters of pure alcohol, projected estimates, 15+ years of age)  \\\n",
       "0                                               0.21                                                      \n",
       "3                                               7.17                                                      \n",
       "4                                               0.95                                                      \n",
       "6                                               6.94                                                      \n",
       "9                                               9.65                                                      \n",
       "\n",
       "   Score  \n",
       "0  3.632  \n",
       "3  4.586  \n",
       "4  5.295  \n",
       "6  3.795  \n",
       "9  6.388  "
      ]
     },
     "execution_count": 57,
     "metadata": {},
     "output_type": "execute_result"
    }
   ],
   "source": [
    "final_comb_df.head()"
   ]
  },
  {
   "cell_type": "markdown",
   "id": "e82b656c",
   "metadata": {},
   "source": [
    "We want to answer the following question: \n",
    "Do countries with a happiness score greater than 7 have an average total alcohol consumption per capita equal to 4?\n",
    "To answer this we will want to run a two-sided, single sample t-test.\n",
    "Our hypotheses would be:\n",
    "Null μ = 4\n",
    "Alternative μ != 4"
   ]
  },
  {
   "cell_type": "markdown",
   "id": "2768fb3c",
   "metadata": {},
   "source": [
    "So first we need to make a dataframe with countries with happiness scores above 7"
   ]
  },
  {
   "cell_type": "code",
   "execution_count": 58,
   "id": "79f8aaba",
   "metadata": {},
   "outputs": [],
   "source": [
    "df_above_7 = final_comb_df[final_comb_df[\"Score\"] > 7]"
   ]
  },
  {
   "cell_type": "code",
   "execution_count": 59,
   "id": "b6e95d4d",
   "metadata": {},
   "outputs": [
    {
     "data": {
      "text/html": [
       "<div>\n",
       "<style scoped>\n",
       "    .dataframe tbody tr th:only-of-type {\n",
       "        vertical-align: middle;\n",
       "    }\n",
       "\n",
       "    .dataframe tbody tr th {\n",
       "        vertical-align: top;\n",
       "    }\n",
       "\n",
       "    .dataframe thead th {\n",
       "        text-align: right;\n",
       "    }\n",
       "</style>\n",
       "<table border=\"1\" class=\"dataframe\">\n",
       "  <thead>\n",
       "    <tr style=\"text-align: right;\">\n",
       "      <th></th>\n",
       "      <th>Country or region</th>\n",
       "      <th>Total alcohol consumption per capita (liters of pure alcohol, projected estimates, 15+ years of age)</th>\n",
       "      <th>Score</th>\n",
       "    </tr>\n",
       "  </thead>\n",
       "  <tbody>\n",
       "    <tr>\n",
       "      <th>11</th>\n",
       "      <td>Australia</td>\n",
       "      <td>10.51</td>\n",
       "      <td>7.272</td>\n",
       "    </tr>\n",
       "    <tr>\n",
       "      <th>12</th>\n",
       "      <td>Austria</td>\n",
       "      <td>11.96</td>\n",
       "      <td>7.139</td>\n",
       "    </tr>\n",
       "    <tr>\n",
       "      <th>33</th>\n",
       "      <td>Canada</td>\n",
       "      <td>8.94</td>\n",
       "      <td>7.328</td>\n",
       "    </tr>\n",
       "    <tr>\n",
       "      <th>44</th>\n",
       "      <td>Costa Rica</td>\n",
       "      <td>4.87</td>\n",
       "      <td>7.072</td>\n",
       "    </tr>\n",
       "    <tr>\n",
       "      <th>51</th>\n",
       "      <td>Denmark</td>\n",
       "      <td>10.26</td>\n",
       "      <td>7.555</td>\n",
       "    </tr>\n",
       "  </tbody>\n",
       "</table>\n",
       "</div>"
      ],
      "text/plain": [
       "   Country or region  \\\n",
       "11         Australia   \n",
       "12           Austria   \n",
       "33            Canada   \n",
       "44        Costa Rica   \n",
       "51           Denmark   \n",
       "\n",
       "    Total alcohol consumption per capita (liters of pure alcohol, projected estimates, 15+ years of age)  \\\n",
       "11                                              10.51                                                      \n",
       "12                                              11.96                                                      \n",
       "33                                               8.94                                                      \n",
       "44                                               4.87                                                      \n",
       "51                                              10.26                                                      \n",
       "\n",
       "    Score  \n",
       "11  7.272  \n",
       "12  7.139  \n",
       "33  7.328  \n",
       "44  7.072  \n",
       "51  7.555  "
      ]
     },
     "execution_count": 59,
     "metadata": {},
     "output_type": "execute_result"
    }
   ],
   "source": [
    "df_above_7.head()"
   ]
  },
  {
   "cell_type": "markdown",
   "id": "ea64f0b8",
   "metadata": {},
   "source": [
    "Now we have our sample of scores above 7 from 2018. To run the t-test the only data from the sample we need is the total alcohol consumption. So we will make a new dataframe with only that data"
   ]
  },
  {
   "cell_type": "code",
   "execution_count": 60,
   "id": "03221721",
   "metadata": {},
   "outputs": [],
   "source": [
    "test_df = df_above_7[['Total alcohol consumption per capita (liters of pure alcohol, projected estimates, 15+ years of age)']]"
   ]
  },
  {
   "cell_type": "code",
   "execution_count": 61,
   "id": "0c38ea23",
   "metadata": {},
   "outputs": [
    {
     "data": {
      "text/html": [
       "<div>\n",
       "<style scoped>\n",
       "    .dataframe tbody tr th:only-of-type {\n",
       "        vertical-align: middle;\n",
       "    }\n",
       "\n",
       "    .dataframe tbody tr th {\n",
       "        vertical-align: top;\n",
       "    }\n",
       "\n",
       "    .dataframe thead th {\n",
       "        text-align: right;\n",
       "    }\n",
       "</style>\n",
       "<table border=\"1\" class=\"dataframe\">\n",
       "  <thead>\n",
       "    <tr style=\"text-align: right;\">\n",
       "      <th></th>\n",
       "      <th>Total alcohol consumption per capita (liters of pure alcohol, projected estimates, 15+ years of age)</th>\n",
       "    </tr>\n",
       "  </thead>\n",
       "  <tbody>\n",
       "    <tr>\n",
       "      <th>11</th>\n",
       "      <td>10.51</td>\n",
       "    </tr>\n",
       "    <tr>\n",
       "      <th>12</th>\n",
       "      <td>11.96</td>\n",
       "    </tr>\n",
       "    <tr>\n",
       "      <th>33</th>\n",
       "      <td>8.94</td>\n",
       "    </tr>\n",
       "    <tr>\n",
       "      <th>44</th>\n",
       "      <td>4.87</td>\n",
       "    </tr>\n",
       "    <tr>\n",
       "      <th>51</th>\n",
       "      <td>10.26</td>\n",
       "    </tr>\n",
       "    <tr>\n",
       "      <th>73</th>\n",
       "      <td>10.78</td>\n",
       "    </tr>\n",
       "    <tr>\n",
       "      <th>97</th>\n",
       "      <td>9.12</td>\n",
       "    </tr>\n",
       "    <tr>\n",
       "      <th>152</th>\n",
       "      <td>9.61</td>\n",
       "    </tr>\n",
       "    <tr>\n",
       "      <th>153</th>\n",
       "      <td>10.63</td>\n",
       "    </tr>\n",
       "    <tr>\n",
       "      <th>160</th>\n",
       "      <td>7.41</td>\n",
       "    </tr>\n",
       "    <tr>\n",
       "      <th>206</th>\n",
       "      <td>8.93</td>\n",
       "    </tr>\n",
       "    <tr>\n",
       "      <th>207</th>\n",
       "      <td>11.53</td>\n",
       "    </tr>\n",
       "    <tr>\n",
       "      <th>223</th>\n",
       "      <td>11.45</td>\n",
       "    </tr>\n",
       "  </tbody>\n",
       "</table>\n",
       "</div>"
      ],
      "text/plain": [
       "     Total alcohol consumption per capita (liters of pure alcohol, projected estimates, 15+ years of age)\n",
       "11                                               10.51                                                   \n",
       "12                                               11.96                                                   \n",
       "33                                                8.94                                                   \n",
       "44                                                4.87                                                   \n",
       "51                                               10.26                                                   \n",
       "73                                               10.78                                                   \n",
       "97                                                9.12                                                   \n",
       "152                                               9.61                                                   \n",
       "153                                              10.63                                                   \n",
       "160                                               7.41                                                   \n",
       "206                                               8.93                                                   \n",
       "207                                              11.53                                                   \n",
       "223                                              11.45                                                   "
      ]
     },
     "execution_count": 61,
     "metadata": {},
     "output_type": "execute_result"
    }
   ],
   "source": [
    "test_df.head(14)"
   ]
  },
  {
   "cell_type": "markdown",
   "id": "35383fe6",
   "metadata": {},
   "source": [
    "Now we can run the t-test and get the t-stat. We will be using a critical level/alpha of .05 as that's what's most common to use"
   ]
  },
  {
   "cell_type": "code",
   "execution_count": 62,
   "id": "e3e0f78d",
   "metadata": {},
   "outputs": [
    {
     "data": {
      "text/plain": [
       "Ttest_1sampResult(statistic=array([10.64505808]), pvalue=array([1.81533951e-07]))"
      ]
     },
     "execution_count": 62,
     "metadata": {},
     "output_type": "execute_result"
    }
   ],
   "source": [
    "stats.ttest_1samp(a=test_df, popmean=4)"
   ]
  },
  {
   "cell_type": "markdown",
   "id": "b85e13a5",
   "metadata": {},
   "source": [
    "The t test statistic is 10.64505808 and the corresponding two-sided p-value is 1.81533951e-07"
   ]
  },
  {
   "cell_type": "markdown",
   "id": "27e27cba",
   "metadata": {},
   "source": [
    "We need to get the t-critical value and compare it to the t-stat inorder to determine if we accept or reject the null. to get this we first need to determine the degrees of freedom"
   ]
  },
  {
   "cell_type": "code",
   "execution_count": 63,
   "id": "cca17f3c",
   "metadata": {},
   "outputs": [],
   "source": [
    "dof=len(test_df.index)-1"
   ]
  },
  {
   "cell_type": "code",
   "execution_count": 64,
   "id": "ea0bc202",
   "metadata": {},
   "outputs": [
    {
     "name": "stdout",
     "output_type": "stream",
     "text": [
      "12\n"
     ]
    }
   ],
   "source": [
    "print(dof)"
   ]
  },
  {
   "cell_type": "markdown",
   "id": "dd8f36ad",
   "metadata": {},
   "source": [
    "So our degrees of freedom is 12"
   ]
  },
  {
   "cell_type": "markdown",
   "id": "270c3919",
   "metadata": {},
   "source": [
    "Now we use our chosen alpha level and the degrees of freedom to find the t-critical value"
   ]
  },
  {
   "cell_type": "code",
   "execution_count": 65,
   "id": "eec74585",
   "metadata": {},
   "outputs": [
    {
     "data": {
      "text/plain": [
       "2.1788128296634177"
      ]
     },
     "execution_count": 65,
     "metadata": {},
     "output_type": "execute_result"
    }
   ],
   "source": [
    "stats.t.ppf(1-.05/2,12)"
   ]
  },
  {
   "cell_type": "markdown",
   "id": "821438fb",
   "metadata": {},
   "source": [
    "We can see our t-critical value is 2.179"
   ]
  },
  {
   "cell_type": "markdown",
   "id": "51b2352b",
   "metadata": {},
   "source": [
    "Our t test statistic is 10.645 is more extreme than our t-critical value of 2.179. This tells us we should reject the null hypothesis. Additionally our p-value of 1.815e-07 is less than our alpha of .05 which also tells us we should reject the null. So we can concluded that countries with an average happiness score greater than 7 don't have an average total alcohol consumption per capita equal to 4."
   ]
  }
 ],
 "metadata": {
  "kernelspec": {
   "display_name": "Python 3 (ipykernel)",
   "language": "python",
   "name": "python3"
  },
  "language_info": {
   "codemirror_mode": {
    "name": "ipython",
    "version": 3
   },
   "file_extension": ".py",
   "mimetype": "text/x-python",
   "name": "python",
   "nbconvert_exporter": "python",
   "pygments_lexer": "ipython3",
   "version": "3.9.12"
  }
 },
 "nbformat": 4,
 "nbformat_minor": 5
}
