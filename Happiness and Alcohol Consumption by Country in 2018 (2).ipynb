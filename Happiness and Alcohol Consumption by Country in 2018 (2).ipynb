{
 "cells": [
  {
   "cell_type": "code",
   "execution_count": 71,
   "id": "a074a2b4",
   "metadata": {},
   "outputs": [],
   "source": [
    "import pandas as pd\n",
    "import numpy as np\n",
    "import scipy.stats as stats\n",
    "\n",
    "adf = pd.read_csv('alcohol.csv')"
   ]
  },
  {
   "cell_type": "markdown",
   "id": "184daa76",
   "metadata": {},
   "source": [
    "This is our database with the alcohol consumption per capita for countries"
   ]
  },
  {
   "cell_type": "code",
   "execution_count": 72,
   "id": "c220872e",
   "metadata": {},
   "outputs": [
    {
     "data": {
      "text/html": [
       "<div>\n",
       "<style scoped>\n",
       "    .dataframe tbody tr th:only-of-type {\n",
       "        vertical-align: middle;\n",
       "    }\n",
       "\n",
       "    .dataframe tbody tr th {\n",
       "        vertical-align: top;\n",
       "    }\n",
       "\n",
       "    .dataframe thead th {\n",
       "        text-align: right;\n",
       "    }\n",
       "</style>\n",
       "<table border=\"1\" class=\"dataframe\">\n",
       "  <thead>\n",
       "    <tr style=\"text-align: right;\">\n",
       "      <th></th>\n",
       "      <th>Entity</th>\n",
       "      <th>Code</th>\n",
       "      <th>Year</th>\n",
       "      <th>Total alcohol consumption per capita (liters of pure alcohol, projected estimates, 15+ years of age)</th>\n",
       "      <th>GDP per capita, PPP (constant 2017 international $)</th>\n",
       "      <th>Population (historical estimates)</th>\n",
       "      <th>Continent</th>\n",
       "    </tr>\n",
       "  </thead>\n",
       "  <tbody>\n",
       "    <tr>\n",
       "      <th>0</th>\n",
       "      <td>Abkhazia</td>\n",
       "      <td>OWID_ABK</td>\n",
       "      <td>2015</td>\n",
       "      <td>NaN</td>\n",
       "      <td>NaN</td>\n",
       "      <td>NaN</td>\n",
       "      <td>Asia</td>\n",
       "    </tr>\n",
       "    <tr>\n",
       "      <th>1</th>\n",
       "      <td>Afghanistan</td>\n",
       "      <td>AFG</td>\n",
       "      <td>2010</td>\n",
       "      <td>0.21</td>\n",
       "      <td>1957.029070</td>\n",
       "      <td>29185511.0</td>\n",
       "      <td>NaN</td>\n",
       "    </tr>\n",
       "    <tr>\n",
       "      <th>2</th>\n",
       "      <td>Afghanistan</td>\n",
       "      <td>AFG</td>\n",
       "      <td>2015</td>\n",
       "      <td>0.21</td>\n",
       "      <td>2068.265904</td>\n",
       "      <td>34413603.0</td>\n",
       "      <td>Asia</td>\n",
       "    </tr>\n",
       "    <tr>\n",
       "      <th>3</th>\n",
       "      <td>Afghanistan</td>\n",
       "      <td>AFG</td>\n",
       "      <td>2018</td>\n",
       "      <td>0.21</td>\n",
       "      <td>2033.804389</td>\n",
       "      <td>37171922.0</td>\n",
       "      <td>NaN</td>\n",
       "    </tr>\n",
       "    <tr>\n",
       "      <th>4</th>\n",
       "      <td>Afghanistan</td>\n",
       "      <td>AFG</td>\n",
       "      <td>2002</td>\n",
       "      <td>NaN</td>\n",
       "      <td>1189.784668</td>\n",
       "      <td>22600774.0</td>\n",
       "      <td>NaN</td>\n",
       "    </tr>\n",
       "  </tbody>\n",
       "</table>\n",
       "</div>"
      ],
      "text/plain": [
       "        Entity      Code  Year  \\\n",
       "0     Abkhazia  OWID_ABK  2015   \n",
       "1  Afghanistan       AFG  2010   \n",
       "2  Afghanistan       AFG  2015   \n",
       "3  Afghanistan       AFG  2018   \n",
       "4  Afghanistan       AFG  2002   \n",
       "\n",
       "   Total alcohol consumption per capita (liters of pure alcohol, projected estimates, 15+ years of age)  \\\n",
       "0                                                NaN                                                      \n",
       "1                                               0.21                                                      \n",
       "2                                               0.21                                                      \n",
       "3                                               0.21                                                      \n",
       "4                                                NaN                                                      \n",
       "\n",
       "   GDP per capita, PPP (constant 2017 international $)  \\\n",
       "0                                                NaN     \n",
       "1                                        1957.029070     \n",
       "2                                        2068.265904     \n",
       "3                                        2033.804389     \n",
       "4                                        1189.784668     \n",
       "\n",
       "   Population (historical estimates) Continent  \n",
       "0                                NaN      Asia  \n",
       "1                         29185511.0       NaN  \n",
       "2                         34413603.0      Asia  \n",
       "3                         37171922.0       NaN  \n",
       "4                         22600774.0       NaN  "
      ]
     },
     "execution_count": 72,
     "metadata": {},
     "output_type": "execute_result"
    }
   ],
   "source": [
    "adf.head()"
   ]
  },
  {
   "cell_type": "markdown",
   "id": "4b252d50",
   "metadata": {},
   "source": [
    "We need to change the column called Entity to Country or region so we can merge it with a df we will create later"
   ]
  },
  {
   "cell_type": "code",
   "execution_count": 73,
   "id": "aa97f45c",
   "metadata": {},
   "outputs": [],
   "source": [
    "adf.rename(columns = {'Entity':'Country or region'}, inplace = True)"
   ]
  },
  {
   "cell_type": "markdown",
   "id": "c5de32a5",
   "metadata": {},
   "source": [
    "We will check that it worked"
   ]
  },
  {
   "cell_type": "code",
   "execution_count": 74,
   "id": "5222fef4",
   "metadata": {},
   "outputs": [
    {
     "data": {
      "text/html": [
       "<div>\n",
       "<style scoped>\n",
       "    .dataframe tbody tr th:only-of-type {\n",
       "        vertical-align: middle;\n",
       "    }\n",
       "\n",
       "    .dataframe tbody tr th {\n",
       "        vertical-align: top;\n",
       "    }\n",
       "\n",
       "    .dataframe thead th {\n",
       "        text-align: right;\n",
       "    }\n",
       "</style>\n",
       "<table border=\"1\" class=\"dataframe\">\n",
       "  <thead>\n",
       "    <tr style=\"text-align: right;\">\n",
       "      <th></th>\n",
       "      <th>Country or region</th>\n",
       "      <th>Code</th>\n",
       "      <th>Year</th>\n",
       "      <th>Total alcohol consumption per capita (liters of pure alcohol, projected estimates, 15+ years of age)</th>\n",
       "      <th>GDP per capita, PPP (constant 2017 international $)</th>\n",
       "      <th>Population (historical estimates)</th>\n",
       "      <th>Continent</th>\n",
       "    </tr>\n",
       "  </thead>\n",
       "  <tbody>\n",
       "    <tr>\n",
       "      <th>0</th>\n",
       "      <td>Abkhazia</td>\n",
       "      <td>OWID_ABK</td>\n",
       "      <td>2015</td>\n",
       "      <td>NaN</td>\n",
       "      <td>NaN</td>\n",
       "      <td>NaN</td>\n",
       "      <td>Asia</td>\n",
       "    </tr>\n",
       "    <tr>\n",
       "      <th>1</th>\n",
       "      <td>Afghanistan</td>\n",
       "      <td>AFG</td>\n",
       "      <td>2010</td>\n",
       "      <td>0.21</td>\n",
       "      <td>1957.029070</td>\n",
       "      <td>29185511.0</td>\n",
       "      <td>NaN</td>\n",
       "    </tr>\n",
       "    <tr>\n",
       "      <th>2</th>\n",
       "      <td>Afghanistan</td>\n",
       "      <td>AFG</td>\n",
       "      <td>2015</td>\n",
       "      <td>0.21</td>\n",
       "      <td>2068.265904</td>\n",
       "      <td>34413603.0</td>\n",
       "      <td>Asia</td>\n",
       "    </tr>\n",
       "    <tr>\n",
       "      <th>3</th>\n",
       "      <td>Afghanistan</td>\n",
       "      <td>AFG</td>\n",
       "      <td>2018</td>\n",
       "      <td>0.21</td>\n",
       "      <td>2033.804389</td>\n",
       "      <td>37171922.0</td>\n",
       "      <td>NaN</td>\n",
       "    </tr>\n",
       "    <tr>\n",
       "      <th>4</th>\n",
       "      <td>Afghanistan</td>\n",
       "      <td>AFG</td>\n",
       "      <td>2002</td>\n",
       "      <td>NaN</td>\n",
       "      <td>1189.784668</td>\n",
       "      <td>22600774.0</td>\n",
       "      <td>NaN</td>\n",
       "    </tr>\n",
       "  </tbody>\n",
       "</table>\n",
       "</div>"
      ],
      "text/plain": [
       "  Country or region      Code  Year  \\\n",
       "0          Abkhazia  OWID_ABK  2015   \n",
       "1       Afghanistan       AFG  2010   \n",
       "2       Afghanistan       AFG  2015   \n",
       "3       Afghanistan       AFG  2018   \n",
       "4       Afghanistan       AFG  2002   \n",
       "\n",
       "   Total alcohol consumption per capita (liters of pure alcohol, projected estimates, 15+ years of age)  \\\n",
       "0                                                NaN                                                      \n",
       "1                                               0.21                                                      \n",
       "2                                               0.21                                                      \n",
       "3                                               0.21                                                      \n",
       "4                                                NaN                                                      \n",
       "\n",
       "   GDP per capita, PPP (constant 2017 international $)  \\\n",
       "0                                                NaN     \n",
       "1                                        1957.029070     \n",
       "2                                        2068.265904     \n",
       "3                                        2033.804389     \n",
       "4                                        1189.784668     \n",
       "\n",
       "   Population (historical estimates) Continent  \n",
       "0                                NaN      Asia  \n",
       "1                         29185511.0       NaN  \n",
       "2                         34413603.0      Asia  \n",
       "3                         37171922.0       NaN  \n",
       "4                         22600774.0       NaN  "
      ]
     },
     "execution_count": 74,
     "metadata": {},
     "output_type": "execute_result"
    }
   ],
   "source": [
    "adf.head()"
   ]
  },
  {
   "cell_type": "markdown",
   "id": "82b637ed",
   "metadata": {},
   "source": [
    "We only want the collumns for total alcohol consumption, the year, and Country or region so we will make a new dataframe"
   ]
  },
  {
   "cell_type": "code",
   "execution_count": 75,
   "id": "beea5cbf",
   "metadata": {},
   "outputs": [],
   "source": [
    "adf_edit = adf[['Country or region', 'Year', 'Total alcohol consumption per capita (liters of pure alcohol, projected estimates, 15+ years of age)']]"
   ]
  },
  {
   "cell_type": "code",
   "execution_count": 76,
   "id": "266eb370",
   "metadata": {
    "scrolled": true
   },
   "outputs": [
    {
     "data": {
      "text/html": [
       "<div>\n",
       "<style scoped>\n",
       "    .dataframe tbody tr th:only-of-type {\n",
       "        vertical-align: middle;\n",
       "    }\n",
       "\n",
       "    .dataframe tbody tr th {\n",
       "        vertical-align: top;\n",
       "    }\n",
       "\n",
       "    .dataframe thead th {\n",
       "        text-align: right;\n",
       "    }\n",
       "</style>\n",
       "<table border=\"1\" class=\"dataframe\">\n",
       "  <thead>\n",
       "    <tr style=\"text-align: right;\">\n",
       "      <th></th>\n",
       "      <th>Country or region</th>\n",
       "      <th>Year</th>\n",
       "      <th>Total alcohol consumption per capita (liters of pure alcohol, projected estimates, 15+ years of age)</th>\n",
       "    </tr>\n",
       "  </thead>\n",
       "  <tbody>\n",
       "    <tr>\n",
       "      <th>0</th>\n",
       "      <td>Abkhazia</td>\n",
       "      <td>2015</td>\n",
       "      <td>NaN</td>\n",
       "    </tr>\n",
       "    <tr>\n",
       "      <th>1</th>\n",
       "      <td>Afghanistan</td>\n",
       "      <td>2010</td>\n",
       "      <td>0.21</td>\n",
       "    </tr>\n",
       "    <tr>\n",
       "      <th>2</th>\n",
       "      <td>Afghanistan</td>\n",
       "      <td>2015</td>\n",
       "      <td>0.21</td>\n",
       "    </tr>\n",
       "    <tr>\n",
       "      <th>3</th>\n",
       "      <td>Afghanistan</td>\n",
       "      <td>2018</td>\n",
       "      <td>0.21</td>\n",
       "    </tr>\n",
       "    <tr>\n",
       "      <th>4</th>\n",
       "      <td>Afghanistan</td>\n",
       "      <td>2002</td>\n",
       "      <td>NaN</td>\n",
       "    </tr>\n",
       "  </tbody>\n",
       "</table>\n",
       "</div>"
      ],
      "text/plain": [
       "  Country or region  Year  \\\n",
       "0          Abkhazia  2015   \n",
       "1       Afghanistan  2010   \n",
       "2       Afghanistan  2015   \n",
       "3       Afghanistan  2018   \n",
       "4       Afghanistan  2002   \n",
       "\n",
       "   Total alcohol consumption per capita (liters of pure alcohol, projected estimates, 15+ years of age)  \n",
       "0                                                NaN                                                     \n",
       "1                                               0.21                                                     \n",
       "2                                               0.21                                                     \n",
       "3                                               0.21                                                     \n",
       "4                                                NaN                                                     "
      ]
     },
     "execution_count": 76,
     "metadata": {},
     "output_type": "execute_result"
    }
   ],
   "source": [
    "adf_edit.head()"
   ]
  },
  {
   "cell_type": "markdown",
   "id": "76483330",
   "metadata": {},
   "source": [
    "We need to eliminate all rows with NaN as a value so we will make a new df"
   ]
  },
  {
   "cell_type": "code",
   "execution_count": 77,
   "id": "dfb1197a",
   "metadata": {},
   "outputs": [],
   "source": [
    "adf_edit2=adf_edit.dropna()"
   ]
  },
  {
   "cell_type": "code",
   "execution_count": 78,
   "id": "447ccb90",
   "metadata": {},
   "outputs": [
    {
     "data": {
      "text/html": [
       "<div>\n",
       "<style scoped>\n",
       "    .dataframe tbody tr th:only-of-type {\n",
       "        vertical-align: middle;\n",
       "    }\n",
       "\n",
       "    .dataframe tbody tr th {\n",
       "        vertical-align: top;\n",
       "    }\n",
       "\n",
       "    .dataframe thead th {\n",
       "        text-align: right;\n",
       "    }\n",
       "</style>\n",
       "<table border=\"1\" class=\"dataframe\">\n",
       "  <thead>\n",
       "    <tr style=\"text-align: right;\">\n",
       "      <th></th>\n",
       "      <th>Country or region</th>\n",
       "      <th>Year</th>\n",
       "      <th>Total alcohol consumption per capita (liters of pure alcohol, projected estimates, 15+ years of age)</th>\n",
       "    </tr>\n",
       "  </thead>\n",
       "  <tbody>\n",
       "    <tr>\n",
       "      <th>1</th>\n",
       "      <td>Afghanistan</td>\n",
       "      <td>2010</td>\n",
       "      <td>0.210000</td>\n",
       "    </tr>\n",
       "    <tr>\n",
       "      <th>2</th>\n",
       "      <td>Afghanistan</td>\n",
       "      <td>2015</td>\n",
       "      <td>0.210000</td>\n",
       "    </tr>\n",
       "    <tr>\n",
       "      <th>3</th>\n",
       "      <td>Afghanistan</td>\n",
       "      <td>2018</td>\n",
       "      <td>0.210000</td>\n",
       "    </tr>\n",
       "    <tr>\n",
       "      <th>519</th>\n",
       "      <td>Africa Eastern and Southern</td>\n",
       "      <td>2000</td>\n",
       "      <td>5.014051</td>\n",
       "    </tr>\n",
       "    <tr>\n",
       "      <th>520</th>\n",
       "      <td>Africa Eastern and Southern</td>\n",
       "      <td>2005</td>\n",
       "      <td>4.856588</td>\n",
       "    </tr>\n",
       "  </tbody>\n",
       "</table>\n",
       "</div>"
      ],
      "text/plain": [
       "               Country or region  Year  \\\n",
       "1                    Afghanistan  2010   \n",
       "2                    Afghanistan  2015   \n",
       "3                    Afghanistan  2018   \n",
       "519  Africa Eastern and Southern  2000   \n",
       "520  Africa Eastern and Southern  2005   \n",
       "\n",
       "     Total alcohol consumption per capita (liters of pure alcohol, projected estimates, 15+ years of age)  \n",
       "1                                             0.210000                                                     \n",
       "2                                             0.210000                                                     \n",
       "3                                             0.210000                                                     \n",
       "519                                           5.014051                                                     \n",
       "520                                           4.856588                                                     "
      ]
     },
     "execution_count": 78,
     "metadata": {},
     "output_type": "execute_result"
    }
   ],
   "source": [
    "adf_edit2.head()"
   ]
  },
  {
   "cell_type": "markdown",
   "id": "db0429fd",
   "metadata": {},
   "source": [
    "For our sample, we only want data from 2018 so we will again make a new dataframe"
   ]
  },
  {
   "cell_type": "code",
   "execution_count": 79,
   "id": "0ec3360e",
   "metadata": {},
   "outputs": [],
   "source": [
    "adf_2018 = adf_edit2[adf_edit2[\"Year\"] == 2018]"
   ]
  },
  {
   "cell_type": "code",
   "execution_count": 80,
   "id": "9b7087cb",
   "metadata": {},
   "outputs": [
    {
     "data": {
      "text/html": [
       "<div>\n",
       "<style scoped>\n",
       "    .dataframe tbody tr th:only-of-type {\n",
       "        vertical-align: middle;\n",
       "    }\n",
       "\n",
       "    .dataframe tbody tr th {\n",
       "        vertical-align: top;\n",
       "    }\n",
       "\n",
       "    .dataframe thead th {\n",
       "        text-align: right;\n",
       "    }\n",
       "</style>\n",
       "<table border=\"1\" class=\"dataframe\">\n",
       "  <thead>\n",
       "    <tr style=\"text-align: right;\">\n",
       "      <th></th>\n",
       "      <th>Country or region</th>\n",
       "      <th>Year</th>\n",
       "      <th>Total alcohol consumption per capita (liters of pure alcohol, projected estimates, 15+ years of age)</th>\n",
       "    </tr>\n",
       "  </thead>\n",
       "  <tbody>\n",
       "    <tr>\n",
       "      <th>3</th>\n",
       "      <td>Afghanistan</td>\n",
       "      <td>2018</td>\n",
       "      <td>0.210000</td>\n",
       "    </tr>\n",
       "    <tr>\n",
       "      <th>523</th>\n",
       "      <td>Africa Eastern and Southern</td>\n",
       "      <td>2018</td>\n",
       "      <td>5.170911</td>\n",
       "    </tr>\n",
       "    <tr>\n",
       "      <th>554</th>\n",
       "      <td>Africa Western and Central</td>\n",
       "      <td>2018</td>\n",
       "      <td>6.835266</td>\n",
       "    </tr>\n",
       "    <tr>\n",
       "      <th>586</th>\n",
       "      <td>Albania</td>\n",
       "      <td>2018</td>\n",
       "      <td>7.170000</td>\n",
       "    </tr>\n",
       "    <tr>\n",
       "      <th>845</th>\n",
       "      <td>Algeria</td>\n",
       "      <td>2018</td>\n",
       "      <td>0.950000</td>\n",
       "    </tr>\n",
       "    <tr>\n",
       "      <th>1218</th>\n",
       "      <td>Andorra</td>\n",
       "      <td>2018</td>\n",
       "      <td>11.020000</td>\n",
       "    </tr>\n",
       "    <tr>\n",
       "      <th>1477</th>\n",
       "      <td>Angola</td>\n",
       "      <td>2018</td>\n",
       "      <td>6.940000</td>\n",
       "    </tr>\n",
       "    <tr>\n",
       "      <th>1858</th>\n",
       "      <td>Antigua and Barbuda</td>\n",
       "      <td>2018</td>\n",
       "      <td>6.380000</td>\n",
       "    </tr>\n",
       "    <tr>\n",
       "      <th>2117</th>\n",
       "      <td>Arab World</td>\n",
       "      <td>2018</td>\n",
       "      <td>0.618598</td>\n",
       "    </tr>\n",
       "    <tr>\n",
       "      <th>2148</th>\n",
       "      <td>Argentina</td>\n",
       "      <td>2018</td>\n",
       "      <td>9.650000</td>\n",
       "    </tr>\n",
       "  </tbody>\n",
       "</table>\n",
       "</div>"
      ],
      "text/plain": [
       "                Country or region  Year  \\\n",
       "3                     Afghanistan  2018   \n",
       "523   Africa Eastern and Southern  2018   \n",
       "554    Africa Western and Central  2018   \n",
       "586                       Albania  2018   \n",
       "845                       Algeria  2018   \n",
       "1218                      Andorra  2018   \n",
       "1477                       Angola  2018   \n",
       "1858          Antigua and Barbuda  2018   \n",
       "2117                   Arab World  2018   \n",
       "2148                    Argentina  2018   \n",
       "\n",
       "      Total alcohol consumption per capita (liters of pure alcohol, projected estimates, 15+ years of age)  \n",
       "3                                              0.210000                                                     \n",
       "523                                            5.170911                                                     \n",
       "554                                            6.835266                                                     \n",
       "586                                            7.170000                                                     \n",
       "845                                            0.950000                                                     \n",
       "1218                                          11.020000                                                     \n",
       "1477                                           6.940000                                                     \n",
       "1858                                           6.380000                                                     \n",
       "2117                                           0.618598                                                     \n",
       "2148                                           9.650000                                                     "
      ]
     },
     "execution_count": 80,
     "metadata": {},
     "output_type": "execute_result"
    }
   ],
   "source": [
    "adf_2018.head(10)"
   ]
  },
  {
   "cell_type": "markdown",
   "id": "70750d4d",
   "metadata": {},
   "source": [
    "Now I want to remove the year from this data frame as we know all the years = 2018 so there's no need to show it in the table"
   ]
  },
  {
   "cell_type": "code",
   "execution_count": 81,
   "id": "d827e3f0",
   "metadata": {},
   "outputs": [],
   "source": [
    "adf2_2018= adf_2018[['Country or region', 'Total alcohol consumption per capita (liters of pure alcohol, projected estimates, 15+ years of age)']]"
   ]
  },
  {
   "cell_type": "code",
   "execution_count": 82,
   "id": "473db2dc",
   "metadata": {},
   "outputs": [
    {
     "data": {
      "text/html": [
       "<div>\n",
       "<style scoped>\n",
       "    .dataframe tbody tr th:only-of-type {\n",
       "        vertical-align: middle;\n",
       "    }\n",
       "\n",
       "    .dataframe tbody tr th {\n",
       "        vertical-align: top;\n",
       "    }\n",
       "\n",
       "    .dataframe thead th {\n",
       "        text-align: right;\n",
       "    }\n",
       "</style>\n",
       "<table border=\"1\" class=\"dataframe\">\n",
       "  <thead>\n",
       "    <tr style=\"text-align: right;\">\n",
       "      <th></th>\n",
       "      <th>Country or region</th>\n",
       "      <th>Total alcohol consumption per capita (liters of pure alcohol, projected estimates, 15+ years of age)</th>\n",
       "    </tr>\n",
       "  </thead>\n",
       "  <tbody>\n",
       "    <tr>\n",
       "      <th>3</th>\n",
       "      <td>Afghanistan</td>\n",
       "      <td>0.210000</td>\n",
       "    </tr>\n",
       "    <tr>\n",
       "      <th>523</th>\n",
       "      <td>Africa Eastern and Southern</td>\n",
       "      <td>5.170911</td>\n",
       "    </tr>\n",
       "    <tr>\n",
       "      <th>554</th>\n",
       "      <td>Africa Western and Central</td>\n",
       "      <td>6.835266</td>\n",
       "    </tr>\n",
       "    <tr>\n",
       "      <th>586</th>\n",
       "      <td>Albania</td>\n",
       "      <td>7.170000</td>\n",
       "    </tr>\n",
       "    <tr>\n",
       "      <th>845</th>\n",
       "      <td>Algeria</td>\n",
       "      <td>0.950000</td>\n",
       "    </tr>\n",
       "    <tr>\n",
       "      <th>1218</th>\n",
       "      <td>Andorra</td>\n",
       "      <td>11.020000</td>\n",
       "    </tr>\n",
       "    <tr>\n",
       "      <th>1477</th>\n",
       "      <td>Angola</td>\n",
       "      <td>6.940000</td>\n",
       "    </tr>\n",
       "    <tr>\n",
       "      <th>1858</th>\n",
       "      <td>Antigua and Barbuda</td>\n",
       "      <td>6.380000</td>\n",
       "    </tr>\n",
       "    <tr>\n",
       "      <th>2117</th>\n",
       "      <td>Arab World</td>\n",
       "      <td>0.618598</td>\n",
       "    </tr>\n",
       "    <tr>\n",
       "      <th>2148</th>\n",
       "      <td>Argentina</td>\n",
       "      <td>9.650000</td>\n",
       "    </tr>\n",
       "  </tbody>\n",
       "</table>\n",
       "</div>"
      ],
      "text/plain": [
       "                Country or region  \\\n",
       "3                     Afghanistan   \n",
       "523   Africa Eastern and Southern   \n",
       "554    Africa Western and Central   \n",
       "586                       Albania   \n",
       "845                       Algeria   \n",
       "1218                      Andorra   \n",
       "1477                       Angola   \n",
       "1858          Antigua and Barbuda   \n",
       "2117                   Arab World   \n",
       "2148                    Argentina   \n",
       "\n",
       "      Total alcohol consumption per capita (liters of pure alcohol, projected estimates, 15+ years of age)  \n",
       "3                                              0.210000                                                     \n",
       "523                                            5.170911                                                     \n",
       "554                                            6.835266                                                     \n",
       "586                                            7.170000                                                     \n",
       "845                                            0.950000                                                     \n",
       "1218                                          11.020000                                                     \n",
       "1477                                           6.940000                                                     \n",
       "1858                                           6.380000                                                     \n",
       "2117                                           0.618598                                                     \n",
       "2148                                           9.650000                                                     "
      ]
     },
     "execution_count": 82,
     "metadata": {},
     "output_type": "execute_result"
    }
   ],
   "source": [
    "adf2_2018.head(10)"
   ]
  },
  {
   "cell_type": "markdown",
   "id": "a80e37d3",
   "metadata": {},
   "source": [
    "We are going to order the df by country name"
   ]
  },
  {
   "cell_type": "code",
   "execution_count": 83,
   "id": "5c7f751d",
   "metadata": {},
   "outputs": [],
   "source": [
    "order_adf_2018=adf2_2018.sort_values('Country or region')"
   ]
  },
  {
   "cell_type": "code",
   "execution_count": 84,
   "id": "1af8d121",
   "metadata": {
    "scrolled": true
   },
   "outputs": [
    {
     "data": {
      "text/html": [
       "<div>\n",
       "<style scoped>\n",
       "    .dataframe tbody tr th:only-of-type {\n",
       "        vertical-align: middle;\n",
       "    }\n",
       "\n",
       "    .dataframe tbody tr th {\n",
       "        vertical-align: top;\n",
       "    }\n",
       "\n",
       "    .dataframe thead th {\n",
       "        text-align: right;\n",
       "    }\n",
       "</style>\n",
       "<table border=\"1\" class=\"dataframe\">\n",
       "  <thead>\n",
       "    <tr style=\"text-align: right;\">\n",
       "      <th></th>\n",
       "      <th>Country or region</th>\n",
       "      <th>Total alcohol consumption per capita (liters of pure alcohol, projected estimates, 15+ years of age)</th>\n",
       "    </tr>\n",
       "  </thead>\n",
       "  <tbody>\n",
       "    <tr>\n",
       "      <th>3</th>\n",
       "      <td>Afghanistan</td>\n",
       "      <td>0.210000</td>\n",
       "    </tr>\n",
       "    <tr>\n",
       "      <th>523</th>\n",
       "      <td>Africa Eastern and Southern</td>\n",
       "      <td>5.170911</td>\n",
       "    </tr>\n",
       "    <tr>\n",
       "      <th>554</th>\n",
       "      <td>Africa Western and Central</td>\n",
       "      <td>6.835266</td>\n",
       "    </tr>\n",
       "    <tr>\n",
       "      <th>586</th>\n",
       "      <td>Albania</td>\n",
       "      <td>7.170000</td>\n",
       "    </tr>\n",
       "    <tr>\n",
       "      <th>845</th>\n",
       "      <td>Algeria</td>\n",
       "      <td>0.950000</td>\n",
       "    </tr>\n",
       "  </tbody>\n",
       "</table>\n",
       "</div>"
      ],
      "text/plain": [
       "               Country or region  \\\n",
       "3                    Afghanistan   \n",
       "523  Africa Eastern and Southern   \n",
       "554   Africa Western and Central   \n",
       "586                      Albania   \n",
       "845                      Algeria   \n",
       "\n",
       "     Total alcohol consumption per capita (liters of pure alcohol, projected estimates, 15+ years of age)  \n",
       "3                                             0.210000                                                     \n",
       "523                                           5.170911                                                     \n",
       "554                                           6.835266                                                     \n",
       "586                                           7.170000                                                     \n",
       "845                                           0.950000                                                     "
      ]
     },
     "execution_count": 84,
     "metadata": {},
     "output_type": "execute_result"
    }
   ],
   "source": [
    "order_adf_2018.head()"
   ]
  },
  {
   "cell_type": "markdown",
   "id": "3f294d6b",
   "metadata": {},
   "source": [
    "We want to calculate the average alcohol consumption"
   ]
  },
  {
   "cell_type": "code",
   "execution_count": 85,
   "id": "6e633f0d",
   "metadata": {},
   "outputs": [
    {
     "data": {
      "text/plain": [
       "5.965732931054613"
      ]
     },
     "execution_count": 85,
     "metadata": {},
     "output_type": "execute_result"
    }
   ],
   "source": [
    "order_adf_2018['Total alcohol consumption per capita (liters of pure alcohol, projected estimates, 15+ years of age)'].mean()"
   ]
  },
  {
   "cell_type": "code",
   "execution_count": null,
   "id": "20f7fd02",
   "metadata": {},
   "outputs": [],
   "source": []
  },
  {
   "cell_type": "markdown",
   "id": "48a24fb8",
   "metadata": {},
   "source": [
    "Now we need to load our second df for 2018 happiness scores"
   ]
  },
  {
   "cell_type": "code",
   "execution_count": 86,
   "id": "5bc865ea",
   "metadata": {},
   "outputs": [],
   "source": [
    "hdf = pd.read_csv('happy_2018.csv')"
   ]
  },
  {
   "cell_type": "code",
   "execution_count": 87,
   "id": "64ee06fe",
   "metadata": {},
   "outputs": [
    {
     "data": {
      "text/html": [
       "<div>\n",
       "<style scoped>\n",
       "    .dataframe tbody tr th:only-of-type {\n",
       "        vertical-align: middle;\n",
       "    }\n",
       "\n",
       "    .dataframe tbody tr th {\n",
       "        vertical-align: top;\n",
       "    }\n",
       "\n",
       "    .dataframe thead th {\n",
       "        text-align: right;\n",
       "    }\n",
       "</style>\n",
       "<table border=\"1\" class=\"dataframe\">\n",
       "  <thead>\n",
       "    <tr style=\"text-align: right;\">\n",
       "      <th></th>\n",
       "      <th>Overall rank</th>\n",
       "      <th>Country or region</th>\n",
       "      <th>Score</th>\n",
       "      <th>GDP per capita</th>\n",
       "      <th>Social support</th>\n",
       "      <th>Healthy life expectancy</th>\n",
       "      <th>Freedom to make life choices</th>\n",
       "      <th>Generosity</th>\n",
       "      <th>Perceptions of corruption</th>\n",
       "    </tr>\n",
       "  </thead>\n",
       "  <tbody>\n",
       "    <tr>\n",
       "      <th>0</th>\n",
       "      <td>1</td>\n",
       "      <td>Finland</td>\n",
       "      <td>7.632</td>\n",
       "      <td>1.305</td>\n",
       "      <td>1.592</td>\n",
       "      <td>0.874</td>\n",
       "      <td>0.681</td>\n",
       "      <td>0.202</td>\n",
       "      <td>0.393</td>\n",
       "    </tr>\n",
       "    <tr>\n",
       "      <th>1</th>\n",
       "      <td>2</td>\n",
       "      <td>Norway</td>\n",
       "      <td>7.594</td>\n",
       "      <td>1.456</td>\n",
       "      <td>1.582</td>\n",
       "      <td>0.861</td>\n",
       "      <td>0.686</td>\n",
       "      <td>0.286</td>\n",
       "      <td>0.340</td>\n",
       "    </tr>\n",
       "    <tr>\n",
       "      <th>2</th>\n",
       "      <td>3</td>\n",
       "      <td>Denmark</td>\n",
       "      <td>7.555</td>\n",
       "      <td>1.351</td>\n",
       "      <td>1.590</td>\n",
       "      <td>0.868</td>\n",
       "      <td>0.683</td>\n",
       "      <td>0.284</td>\n",
       "      <td>0.408</td>\n",
       "    </tr>\n",
       "    <tr>\n",
       "      <th>3</th>\n",
       "      <td>4</td>\n",
       "      <td>Iceland</td>\n",
       "      <td>7.495</td>\n",
       "      <td>1.343</td>\n",
       "      <td>1.644</td>\n",
       "      <td>0.914</td>\n",
       "      <td>0.677</td>\n",
       "      <td>0.353</td>\n",
       "      <td>0.138</td>\n",
       "    </tr>\n",
       "    <tr>\n",
       "      <th>4</th>\n",
       "      <td>5</td>\n",
       "      <td>Switzerland</td>\n",
       "      <td>7.487</td>\n",
       "      <td>1.420</td>\n",
       "      <td>1.549</td>\n",
       "      <td>0.927</td>\n",
       "      <td>0.660</td>\n",
       "      <td>0.256</td>\n",
       "      <td>0.357</td>\n",
       "    </tr>\n",
       "  </tbody>\n",
       "</table>\n",
       "</div>"
      ],
      "text/plain": [
       "   Overall rank Country or region  Score  GDP per capita  Social support  \\\n",
       "0             1           Finland  7.632           1.305           1.592   \n",
       "1             2            Norway  7.594           1.456           1.582   \n",
       "2             3           Denmark  7.555           1.351           1.590   \n",
       "3             4           Iceland  7.495           1.343           1.644   \n",
       "4             5       Switzerland  7.487           1.420           1.549   \n",
       "\n",
       "   Healthy life expectancy  Freedom to make life choices  Generosity  \\\n",
       "0                    0.874                         0.681       0.202   \n",
       "1                    0.861                         0.686       0.286   \n",
       "2                    0.868                         0.683       0.284   \n",
       "3                    0.914                         0.677       0.353   \n",
       "4                    0.927                         0.660       0.256   \n",
       "\n",
       "   Perceptions of corruption  \n",
       "0                      0.393  \n",
       "1                      0.340  \n",
       "2                      0.408  \n",
       "3                      0.138  \n",
       "4                      0.357  "
      ]
     },
     "execution_count": 87,
     "metadata": {},
     "output_type": "execute_result"
    }
   ],
   "source": [
    "hdf.head()"
   ]
  },
  {
   "cell_type": "markdown",
   "id": "5a5976b1",
   "metadata": {},
   "source": [
    "We only want the columns for the country and the score so we will make a new df"
   ]
  },
  {
   "cell_type": "code",
   "execution_count": 88,
   "id": "d7efca65",
   "metadata": {},
   "outputs": [],
   "source": [
    "hdf2= hdf[['Country or region', 'Score']]"
   ]
  },
  {
   "cell_type": "code",
   "execution_count": 89,
   "id": "27c95216",
   "metadata": {},
   "outputs": [
    {
     "data": {
      "text/html": [
       "<div>\n",
       "<style scoped>\n",
       "    .dataframe tbody tr th:only-of-type {\n",
       "        vertical-align: middle;\n",
       "    }\n",
       "\n",
       "    .dataframe tbody tr th {\n",
       "        vertical-align: top;\n",
       "    }\n",
       "\n",
       "    .dataframe thead th {\n",
       "        text-align: right;\n",
       "    }\n",
       "</style>\n",
       "<table border=\"1\" class=\"dataframe\">\n",
       "  <thead>\n",
       "    <tr style=\"text-align: right;\">\n",
       "      <th></th>\n",
       "      <th>Country or region</th>\n",
       "      <th>Score</th>\n",
       "    </tr>\n",
       "  </thead>\n",
       "  <tbody>\n",
       "    <tr>\n",
       "      <th>0</th>\n",
       "      <td>Finland</td>\n",
       "      <td>7.632</td>\n",
       "    </tr>\n",
       "    <tr>\n",
       "      <th>1</th>\n",
       "      <td>Norway</td>\n",
       "      <td>7.594</td>\n",
       "    </tr>\n",
       "    <tr>\n",
       "      <th>2</th>\n",
       "      <td>Denmark</td>\n",
       "      <td>7.555</td>\n",
       "    </tr>\n",
       "    <tr>\n",
       "      <th>3</th>\n",
       "      <td>Iceland</td>\n",
       "      <td>7.495</td>\n",
       "    </tr>\n",
       "    <tr>\n",
       "      <th>4</th>\n",
       "      <td>Switzerland</td>\n",
       "      <td>7.487</td>\n",
       "    </tr>\n",
       "  </tbody>\n",
       "</table>\n",
       "</div>"
      ],
      "text/plain": [
       "  Country or region  Score\n",
       "0           Finland  7.632\n",
       "1            Norway  7.594\n",
       "2           Denmark  7.555\n",
       "3           Iceland  7.495\n",
       "4       Switzerland  7.487"
      ]
     },
     "execution_count": 89,
     "metadata": {},
     "output_type": "execute_result"
    }
   ],
   "source": [
    "hdf2.head()"
   ]
  },
  {
   "cell_type": "markdown",
   "id": "cffbc0f8",
   "metadata": {},
   "source": [
    "We are going to order the df by country name"
   ]
  },
  {
   "cell_type": "code",
   "execution_count": 90,
   "id": "8cefff21",
   "metadata": {},
   "outputs": [],
   "source": [
    "order_hdf=hdf2.sort_values('Country or region')"
   ]
  },
  {
   "cell_type": "code",
   "execution_count": 91,
   "id": "f586180f",
   "metadata": {},
   "outputs": [
    {
     "data": {
      "text/html": [
       "<div>\n",
       "<style scoped>\n",
       "    .dataframe tbody tr th:only-of-type {\n",
       "        vertical-align: middle;\n",
       "    }\n",
       "\n",
       "    .dataframe tbody tr th {\n",
       "        vertical-align: top;\n",
       "    }\n",
       "\n",
       "    .dataframe thead th {\n",
       "        text-align: right;\n",
       "    }\n",
       "</style>\n",
       "<table border=\"1\" class=\"dataframe\">\n",
       "  <thead>\n",
       "    <tr style=\"text-align: right;\">\n",
       "      <th></th>\n",
       "      <th>Country or region</th>\n",
       "      <th>Score</th>\n",
       "    </tr>\n",
       "  </thead>\n",
       "  <tbody>\n",
       "    <tr>\n",
       "      <th>144</th>\n",
       "      <td>Afghanistan</td>\n",
       "      <td>3.632</td>\n",
       "    </tr>\n",
       "    <tr>\n",
       "      <th>111</th>\n",
       "      <td>Albania</td>\n",
       "      <td>4.586</td>\n",
       "    </tr>\n",
       "    <tr>\n",
       "      <th>83</th>\n",
       "      <td>Algeria</td>\n",
       "      <td>5.295</td>\n",
       "    </tr>\n",
       "    <tr>\n",
       "      <th>141</th>\n",
       "      <td>Angola</td>\n",
       "      <td>3.795</td>\n",
       "    </tr>\n",
       "    <tr>\n",
       "      <th>28</th>\n",
       "      <td>Argentina</td>\n",
       "      <td>6.388</td>\n",
       "    </tr>\n",
       "    <tr>\n",
       "      <th>128</th>\n",
       "      <td>Armenia</td>\n",
       "      <td>4.321</td>\n",
       "    </tr>\n",
       "    <tr>\n",
       "      <th>9</th>\n",
       "      <td>Australia</td>\n",
       "      <td>7.272</td>\n",
       "    </tr>\n",
       "    <tr>\n",
       "      <th>11</th>\n",
       "      <td>Austria</td>\n",
       "      <td>7.139</td>\n",
       "    </tr>\n",
       "    <tr>\n",
       "      <th>86</th>\n",
       "      <td>Azerbaijan</td>\n",
       "      <td>5.201</td>\n",
       "    </tr>\n",
       "    <tr>\n",
       "      <th>42</th>\n",
       "      <td>Bahrain</td>\n",
       "      <td>6.105</td>\n",
       "    </tr>\n",
       "  </tbody>\n",
       "</table>\n",
       "</div>"
      ],
      "text/plain": [
       "    Country or region  Score\n",
       "144       Afghanistan  3.632\n",
       "111           Albania  4.586\n",
       "83            Algeria  5.295\n",
       "141            Angola  3.795\n",
       "28          Argentina  6.388\n",
       "128           Armenia  4.321\n",
       "9           Australia  7.272\n",
       "11            Austria  7.139\n",
       "86         Azerbaijan  5.201\n",
       "42            Bahrain  6.105"
      ]
     },
     "execution_count": 91,
     "metadata": {},
     "output_type": "execute_result"
    }
   ],
   "source": [
    "order_hdf.head(10)"
   ]
  },
  {
   "cell_type": "markdown",
   "id": "b2a3ad09",
   "metadata": {},
   "source": [
    "We want to calculate the average happyness score"
   ]
  },
  {
   "cell_type": "code",
   "execution_count": 92,
   "id": "1a38f8fe",
   "metadata": {},
   "outputs": [
    {
     "data": {
      "text/plain": [
       "5.375916666666666"
      ]
     },
     "execution_count": 92,
     "metadata": {},
     "output_type": "execute_result"
    }
   ],
   "source": [
    "order_hdf['Score'].mean()"
   ]
  },
  {
   "cell_type": "markdown",
   "id": "6cce3769",
   "metadata": {},
   "source": [
    "Our next step is to merge the two df into one"
   ]
  },
  {
   "cell_type": "code",
   "execution_count": 93,
   "id": "673a5cf8",
   "metadata": {},
   "outputs": [],
   "source": [
    "comb_df=pd.merge(order_adf_2018, order_hdf, how='outer', on='Country or region')"
   ]
  },
  {
   "cell_type": "code",
   "execution_count": 94,
   "id": "fea8e10d",
   "metadata": {},
   "outputs": [
    {
     "data": {
      "text/html": [
       "<div>\n",
       "<style scoped>\n",
       "    .dataframe tbody tr th:only-of-type {\n",
       "        vertical-align: middle;\n",
       "    }\n",
       "\n",
       "    .dataframe tbody tr th {\n",
       "        vertical-align: top;\n",
       "    }\n",
       "\n",
       "    .dataframe thead th {\n",
       "        text-align: right;\n",
       "    }\n",
       "</style>\n",
       "<table border=\"1\" class=\"dataframe\">\n",
       "  <thead>\n",
       "    <tr style=\"text-align: right;\">\n",
       "      <th></th>\n",
       "      <th>Country or region</th>\n",
       "      <th>Total alcohol consumption per capita (liters of pure alcohol, projected estimates, 15+ years of age)</th>\n",
       "      <th>Score</th>\n",
       "    </tr>\n",
       "  </thead>\n",
       "  <tbody>\n",
       "    <tr>\n",
       "      <th>0</th>\n",
       "      <td>Afghanistan</td>\n",
       "      <td>0.210000</td>\n",
       "      <td>3.632</td>\n",
       "    </tr>\n",
       "    <tr>\n",
       "      <th>1</th>\n",
       "      <td>Africa Eastern and Southern</td>\n",
       "      <td>5.170911</td>\n",
       "      <td>NaN</td>\n",
       "    </tr>\n",
       "    <tr>\n",
       "      <th>2</th>\n",
       "      <td>Africa Western and Central</td>\n",
       "      <td>6.835266</td>\n",
       "      <td>NaN</td>\n",
       "    </tr>\n",
       "    <tr>\n",
       "      <th>3</th>\n",
       "      <td>Albania</td>\n",
       "      <td>7.170000</td>\n",
       "      <td>4.586</td>\n",
       "    </tr>\n",
       "    <tr>\n",
       "      <th>4</th>\n",
       "      <td>Algeria</td>\n",
       "      <td>0.950000</td>\n",
       "      <td>5.295</td>\n",
       "    </tr>\n",
       "  </tbody>\n",
       "</table>\n",
       "</div>"
      ],
      "text/plain": [
       "             Country or region  \\\n",
       "0                  Afghanistan   \n",
       "1  Africa Eastern and Southern   \n",
       "2   Africa Western and Central   \n",
       "3                      Albania   \n",
       "4                      Algeria   \n",
       "\n",
       "   Total alcohol consumption per capita (liters of pure alcohol, projected estimates, 15+ years of age)  \\\n",
       "0                                           0.210000                                                      \n",
       "1                                           5.170911                                                      \n",
       "2                                           6.835266                                                      \n",
       "3                                           7.170000                                                      \n",
       "4                                           0.950000                                                      \n",
       "\n",
       "   Score  \n",
       "0  3.632  \n",
       "1    NaN  \n",
       "2    NaN  \n",
       "3  4.586  \n",
       "4  5.295  "
      ]
     },
     "execution_count": 94,
     "metadata": {},
     "output_type": "execute_result"
    }
   ],
   "source": [
    "comb_df.head()"
   ]
  },
  {
   "cell_type": "markdown",
   "id": "408ccfee",
   "metadata": {},
   "source": [
    "Now that they are merged, we need to eliminate any rows without a score and make a new df"
   ]
  },
  {
   "cell_type": "code",
   "execution_count": 95,
   "id": "4da4e288",
   "metadata": {},
   "outputs": [],
   "source": [
    "final_comb_df= comb_df.dropna()"
   ]
  },
  {
   "cell_type": "code",
   "execution_count": 96,
   "id": "6a70446e",
   "metadata": {},
   "outputs": [
    {
     "data": {
      "text/html": [
       "<div>\n",
       "<style scoped>\n",
       "    .dataframe tbody tr th:only-of-type {\n",
       "        vertical-align: middle;\n",
       "    }\n",
       "\n",
       "    .dataframe tbody tr th {\n",
       "        vertical-align: top;\n",
       "    }\n",
       "\n",
       "    .dataframe thead th {\n",
       "        text-align: right;\n",
       "    }\n",
       "</style>\n",
       "<table border=\"1\" class=\"dataframe\">\n",
       "  <thead>\n",
       "    <tr style=\"text-align: right;\">\n",
       "      <th></th>\n",
       "      <th>Country or region</th>\n",
       "      <th>Total alcohol consumption per capita (liters of pure alcohol, projected estimates, 15+ years of age)</th>\n",
       "      <th>Score</th>\n",
       "    </tr>\n",
       "  </thead>\n",
       "  <tbody>\n",
       "    <tr>\n",
       "      <th>0</th>\n",
       "      <td>Afghanistan</td>\n",
       "      <td>0.21</td>\n",
       "      <td>3.632</td>\n",
       "    </tr>\n",
       "    <tr>\n",
       "      <th>3</th>\n",
       "      <td>Albania</td>\n",
       "      <td>7.17</td>\n",
       "      <td>4.586</td>\n",
       "    </tr>\n",
       "    <tr>\n",
       "      <th>4</th>\n",
       "      <td>Algeria</td>\n",
       "      <td>0.95</td>\n",
       "      <td>5.295</td>\n",
       "    </tr>\n",
       "    <tr>\n",
       "      <th>6</th>\n",
       "      <td>Angola</td>\n",
       "      <td>6.94</td>\n",
       "      <td>3.795</td>\n",
       "    </tr>\n",
       "    <tr>\n",
       "      <th>9</th>\n",
       "      <td>Argentina</td>\n",
       "      <td>9.65</td>\n",
       "      <td>6.388</td>\n",
       "    </tr>\n",
       "  </tbody>\n",
       "</table>\n",
       "</div>"
      ],
      "text/plain": [
       "  Country or region  \\\n",
       "0       Afghanistan   \n",
       "3           Albania   \n",
       "4           Algeria   \n",
       "6            Angola   \n",
       "9         Argentina   \n",
       "\n",
       "   Total alcohol consumption per capita (liters of pure alcohol, projected estimates, 15+ years of age)  \\\n",
       "0                                               0.21                                                      \n",
       "3                                               7.17                                                      \n",
       "4                                               0.95                                                      \n",
       "6                                               6.94                                                      \n",
       "9                                               9.65                                                      \n",
       "\n",
       "   Score  \n",
       "0  3.632  \n",
       "3  4.586  \n",
       "4  5.295  \n",
       "6  3.795  \n",
       "9  6.388  "
      ]
     },
     "execution_count": 96,
     "metadata": {},
     "output_type": "execute_result"
    }
   ],
   "source": [
    "final_comb_df.head()"
   ]
  },
  {
   "cell_type": "markdown",
   "id": "262bd221",
   "metadata": {},
   "source": [
    "We want to answer the following question: \n",
    "Do countries with a happiness score greater than 6 have an average total alcohol consumption per capita less than  5.96?\n",
    "To answer this we will want to run a left-sided, single sample t-test.\n",
    "Our hypotheses would be:\n",
    "Null >= 5.96\n",
    "Alternative μ < 5.96\n",
    "We will be using the final_comb_df data frame to run the test."
   ]
  },
  {
   "cell_type": "code",
   "execution_count": 105,
   "id": "6089defd",
   "metadata": {},
   "outputs": [
    {
     "data": {
      "text/html": [
       "<div>\n",
       "<style scoped>\n",
       "    .dataframe tbody tr th:only-of-type {\n",
       "        vertical-align: middle;\n",
       "    }\n",
       "\n",
       "    .dataframe tbody tr th {\n",
       "        vertical-align: top;\n",
       "    }\n",
       "\n",
       "    .dataframe thead th {\n",
       "        text-align: right;\n",
       "    }\n",
       "</style>\n",
       "<table border=\"1\" class=\"dataframe\">\n",
       "  <thead>\n",
       "    <tr style=\"text-align: right;\">\n",
       "      <th></th>\n",
       "      <th>Country or region</th>\n",
       "      <th>Total alcohol consumption per capita (liters of pure alcohol, projected estimates, 15+ years of age)</th>\n",
       "      <th>Score</th>\n",
       "    </tr>\n",
       "  </thead>\n",
       "  <tbody>\n",
       "    <tr>\n",
       "      <th>0</th>\n",
       "      <td>Afghanistan</td>\n",
       "      <td>0.21</td>\n",
       "      <td>3.632</td>\n",
       "    </tr>\n",
       "    <tr>\n",
       "      <th>3</th>\n",
       "      <td>Albania</td>\n",
       "      <td>7.17</td>\n",
       "      <td>4.586</td>\n",
       "    </tr>\n",
       "    <tr>\n",
       "      <th>4</th>\n",
       "      <td>Algeria</td>\n",
       "      <td>0.95</td>\n",
       "      <td>5.295</td>\n",
       "    </tr>\n",
       "    <tr>\n",
       "      <th>6</th>\n",
       "      <td>Angola</td>\n",
       "      <td>6.94</td>\n",
       "      <td>3.795</td>\n",
       "    </tr>\n",
       "    <tr>\n",
       "      <th>9</th>\n",
       "      <td>Argentina</td>\n",
       "      <td>9.65</td>\n",
       "      <td>6.388</td>\n",
       "    </tr>\n",
       "  </tbody>\n",
       "</table>\n",
       "</div>"
      ],
      "text/plain": [
       "  Country or region  \\\n",
       "0       Afghanistan   \n",
       "3           Albania   \n",
       "4           Algeria   \n",
       "6            Angola   \n",
       "9         Argentina   \n",
       "\n",
       "   Total alcohol consumption per capita (liters of pure alcohol, projected estimates, 15+ years of age)  \\\n",
       "0                                               0.21                                                      \n",
       "3                                               7.17                                                      \n",
       "4                                               0.95                                                      \n",
       "6                                               6.94                                                      \n",
       "9                                               9.65                                                      \n",
       "\n",
       "   Score  \n",
       "0  3.632  \n",
       "3  4.586  \n",
       "4  5.295  \n",
       "6  3.795  \n",
       "9  6.388  "
      ]
     },
     "execution_count": 105,
     "metadata": {},
     "output_type": "execute_result"
    }
   ],
   "source": [
    "final_comb_df.head()"
   ]
  },
  {
   "cell_type": "code",
   "execution_count": 108,
   "id": "dcb42923",
   "metadata": {},
   "outputs": [],
   "source": [
    "df_above_6 = final_comb_df[final_comb_df[\"Score\"] > 6]"
   ]
  },
  {
   "cell_type": "code",
   "execution_count": 109,
   "id": "8dc55db8",
   "metadata": {},
   "outputs": [
    {
     "data": {
      "text/html": [
       "<div>\n",
       "<style scoped>\n",
       "    .dataframe tbody tr th:only-of-type {\n",
       "        vertical-align: middle;\n",
       "    }\n",
       "\n",
       "    .dataframe tbody tr th {\n",
       "        vertical-align: top;\n",
       "    }\n",
       "\n",
       "    .dataframe thead th {\n",
       "        text-align: right;\n",
       "    }\n",
       "</style>\n",
       "<table border=\"1\" class=\"dataframe\">\n",
       "  <thead>\n",
       "    <tr style=\"text-align: right;\">\n",
       "      <th></th>\n",
       "      <th>Country or region</th>\n",
       "      <th>Total alcohol consumption per capita (liters of pure alcohol, projected estimates, 15+ years of age)</th>\n",
       "      <th>Score</th>\n",
       "    </tr>\n",
       "  </thead>\n",
       "  <tbody>\n",
       "    <tr>\n",
       "      <th>9</th>\n",
       "      <td>Argentina</td>\n",
       "      <td>9.65</td>\n",
       "      <td>6.388</td>\n",
       "    </tr>\n",
       "    <tr>\n",
       "      <th>11</th>\n",
       "      <td>Australia</td>\n",
       "      <td>10.51</td>\n",
       "      <td>7.272</td>\n",
       "    </tr>\n",
       "    <tr>\n",
       "      <th>12</th>\n",
       "      <td>Austria</td>\n",
       "      <td>11.96</td>\n",
       "      <td>7.139</td>\n",
       "    </tr>\n",
       "    <tr>\n",
       "      <th>15</th>\n",
       "      <td>Bahrain</td>\n",
       "      <td>1.09</td>\n",
       "      <td>6.105</td>\n",
       "    </tr>\n",
       "    <tr>\n",
       "      <th>19</th>\n",
       "      <td>Belgium</td>\n",
       "      <td>11.08</td>\n",
       "      <td>6.927</td>\n",
       "    </tr>\n",
       "  </tbody>\n",
       "</table>\n",
       "</div>"
      ],
      "text/plain": [
       "   Country or region  \\\n",
       "9          Argentina   \n",
       "11         Australia   \n",
       "12           Austria   \n",
       "15           Bahrain   \n",
       "19           Belgium   \n",
       "\n",
       "    Total alcohol consumption per capita (liters of pure alcohol, projected estimates, 15+ years of age)  \\\n",
       "9                                                9.65                                                      \n",
       "11                                              10.51                                                      \n",
       "12                                              11.96                                                      \n",
       "15                                               1.09                                                      \n",
       "19                                              11.08                                                      \n",
       "\n",
       "    Score  \n",
       "9   6.388  \n",
       "11  7.272  \n",
       "12  7.139  \n",
       "15  6.105  \n",
       "19  6.927  "
      ]
     },
     "execution_count": 109,
     "metadata": {},
     "output_type": "execute_result"
    }
   ],
   "source": [
    "df_above_6.head()"
   ]
  },
  {
   "cell_type": "markdown",
   "id": "9a99f91c",
   "metadata": {},
   "source": [
    "Now we have our sample of scores above 6 from 2018. To run the t-test the only data from the sample we need is the total alcohol consumption. So we will make a new dataframe with only that data"
   ]
  },
  {
   "cell_type": "code",
   "execution_count": 112,
   "id": "abbf25c3",
   "metadata": {},
   "outputs": [],
   "source": [
    "test2_df = df_above_6[['Total alcohol consumption per capita (liters of pure alcohol, projected estimates, 15+ years of age)']]"
   ]
  },
  {
   "cell_type": "code",
   "execution_count": 114,
   "id": "1d4a652f",
   "metadata": {},
   "outputs": [
    {
     "data": {
      "text/html": [
       "<div>\n",
       "<style scoped>\n",
       "    .dataframe tbody tr th:only-of-type {\n",
       "        vertical-align: middle;\n",
       "    }\n",
       "\n",
       "    .dataframe tbody tr th {\n",
       "        vertical-align: top;\n",
       "    }\n",
       "\n",
       "    .dataframe thead th {\n",
       "        text-align: right;\n",
       "    }\n",
       "</style>\n",
       "<table border=\"1\" class=\"dataframe\">\n",
       "  <thead>\n",
       "    <tr style=\"text-align: right;\">\n",
       "      <th></th>\n",
       "      <th>Total alcohol consumption per capita (liters of pure alcohol, projected estimates, 15+ years of age)</th>\n",
       "    </tr>\n",
       "  </thead>\n",
       "  <tbody>\n",
       "    <tr>\n",
       "      <th>9</th>\n",
       "      <td>9.65</td>\n",
       "    </tr>\n",
       "    <tr>\n",
       "      <th>11</th>\n",
       "      <td>10.51</td>\n",
       "    </tr>\n",
       "    <tr>\n",
       "      <th>12</th>\n",
       "      <td>11.96</td>\n",
       "    </tr>\n",
       "    <tr>\n",
       "      <th>15</th>\n",
       "      <td>1.09</td>\n",
       "    </tr>\n",
       "    <tr>\n",
       "      <th>19</th>\n",
       "      <td>11.08</td>\n",
       "    </tr>\n",
       "    <tr>\n",
       "      <th>26</th>\n",
       "      <td>7.42</td>\n",
       "    </tr>\n",
       "    <tr>\n",
       "      <th>33</th>\n",
       "      <td>8.94</td>\n",
       "    </tr>\n",
       "    <tr>\n",
       "      <th>39</th>\n",
       "      <td>9.07</td>\n",
       "    </tr>\n",
       "    <tr>\n",
       "      <th>41</th>\n",
       "      <td>5.74</td>\n",
       "    </tr>\n",
       "    <tr>\n",
       "      <th>44</th>\n",
       "      <td>4.87</td>\n",
       "    </tr>\n",
       "  </tbody>\n",
       "</table>\n",
       "</div>"
      ],
      "text/plain": [
       "    Total alcohol consumption per capita (liters of pure alcohol, projected estimates, 15+ years of age)\n",
       "9                                                9.65                                                   \n",
       "11                                              10.51                                                   \n",
       "12                                              11.96                                                   \n",
       "15                                               1.09                                                   \n",
       "19                                              11.08                                                   \n",
       "26                                               7.42                                                   \n",
       "33                                               8.94                                                   \n",
       "39                                               9.07                                                   \n",
       "41                                               5.74                                                   \n",
       "44                                               4.87                                                   "
      ]
     },
     "execution_count": 114,
     "metadata": {},
     "output_type": "execute_result"
    }
   ],
   "source": [
    "test2_df.head(10)"
   ]
  },
  {
   "cell_type": "markdown",
   "id": "7c3fbac0",
   "metadata": {},
   "source": [
    "Now we can run the t-test and get the t-stat. We will be using a critical level/alpha of .05 as that's what's most common to use"
   ]
  },
  {
   "cell_type": "code",
   "execution_count": 115,
   "id": "0c3a7dd8",
   "metadata": {},
   "outputs": [
    {
     "data": {
      "text/plain": [
       "Ttest_1sampResult(statistic=array([2.81467281]), pvalue=array([0.99629947]))"
      ]
     },
     "execution_count": 115,
     "metadata": {},
     "output_type": "execute_result"
    }
   ],
   "source": [
    "stats.ttest_1samp(a=test2_df, popmean = 5.96, alternative='less')"
   ]
  },
  {
   "cell_type": "markdown",
   "id": "0f648129",
   "metadata": {},
   "source": [
    "The t test statistic is 2.81467281"
   ]
  },
  {
   "cell_type": "markdown",
   "id": "c5f90037",
   "metadata": {},
   "source": [
    "We need to get the t-critical value and compare it to the t-stat inorder to determine if we accept or reject the null. to get this we first need to determine the degrees of freedom"
   ]
  },
  {
   "cell_type": "code",
   "execution_count": 118,
   "id": "982d124c",
   "metadata": {},
   "outputs": [],
   "source": [
    "dof=len(test2_df.index)-1"
   ]
  },
  {
   "cell_type": "code",
   "execution_count": 119,
   "id": "f266dbe6",
   "metadata": {},
   "outputs": [
    {
     "name": "stdout",
     "output_type": "stream",
     "text": [
      "42\n"
     ]
    }
   ],
   "source": [
    "print(dof)"
   ]
  },
  {
   "cell_type": "markdown",
   "id": "239945a9",
   "metadata": {},
   "source": [
    "So our degrees of freedom is 42"
   ]
  },
  {
   "cell_type": "markdown",
   "id": "40a7b479",
   "metadata": {},
   "source": [
    "Now we use our chosen alpha level and the degrees of freedom to find the t-critical value"
   ]
  },
  {
   "cell_type": "code",
   "execution_count": 134,
   "id": "bfa5d19f",
   "metadata": {},
   "outputs": [
    {
     "data": {
      "text/plain": [
       "-1.6819523559426006"
      ]
     },
     "execution_count": 134,
     "metadata": {},
     "output_type": "execute_result"
    }
   ],
   "source": [
    "stats.t.ppf(.05,42)"
   ]
  },
  {
   "cell_type": "markdown",
   "id": "3c36cbf6",
   "metadata": {},
   "source": [
    "We can see our t-critical value is -1.6819523559426006"
   ]
  },
  {
   "cell_type": "markdown",
   "id": "b239c22d",
   "metadata": {},
   "source": [
    "Our t test statistic of 2.811 is less extreme than our t-critical value of -1.68. This tells us we should accept the null hypothesis. Additionally our p-value of 0.99999262 is greater than our alpha of .05 which also tells us we should accept the null. So we can concluded that countries with an average happiness score greater than 6 have an average total alcohol consumption per capita that is greater than or equal to 5.96.\n",
    "\n"
   ]
  },
  {
   "cell_type": "code",
   "execution_count": null,
   "id": "1481f9ec",
   "metadata": {},
   "outputs": [],
   "source": []
  },
  {
   "cell_type": "markdown",
   "id": "0820d75b",
   "metadata": {},
   "source": [
    "We want to answer the following question: Do countries with a happiness score less than 5 have an average total alcohol consumption per capita greater than 5.96? To answer this we will want to run a right-sided, single sample t-test. Our hypotheses would be: Null <= 5.96 Alternative μ > 5.96\n",
    "\n",
    "So first we need to make a dataframe with countries with happiness scores below 3."
   ]
  },
  {
   "cell_type": "code",
   "execution_count": 144,
   "id": "41fec055",
   "metadata": {},
   "outputs": [],
   "source": [
    "df_below_5 = final_comb_df[final_comb_df[\"Score\"] < 5]"
   ]
  },
  {
   "cell_type": "code",
   "execution_count": 145,
   "id": "2d61b727",
   "metadata": {},
   "outputs": [
    {
     "data": {
      "text/html": [
       "<div>\n",
       "<style scoped>\n",
       "    .dataframe tbody tr th:only-of-type {\n",
       "        vertical-align: middle;\n",
       "    }\n",
       "\n",
       "    .dataframe tbody tr th {\n",
       "        vertical-align: top;\n",
       "    }\n",
       "\n",
       "    .dataframe thead th {\n",
       "        text-align: right;\n",
       "    }\n",
       "</style>\n",
       "<table border=\"1\" class=\"dataframe\">\n",
       "  <thead>\n",
       "    <tr style=\"text-align: right;\">\n",
       "      <th></th>\n",
       "      <th>Country or region</th>\n",
       "      <th>Total alcohol consumption per capita (liters of pure alcohol, projected estimates, 15+ years of age)</th>\n",
       "      <th>Score</th>\n",
       "    </tr>\n",
       "  </thead>\n",
       "  <tbody>\n",
       "    <tr>\n",
       "      <th>0</th>\n",
       "      <td>Afghanistan</td>\n",
       "      <td>0.210</td>\n",
       "      <td>3.632</td>\n",
       "    </tr>\n",
       "    <tr>\n",
       "      <th>3</th>\n",
       "      <td>Albania</td>\n",
       "      <td>7.170</td>\n",
       "      <td>4.586</td>\n",
       "    </tr>\n",
       "    <tr>\n",
       "      <th>6</th>\n",
       "      <td>Angola</td>\n",
       "      <td>6.940</td>\n",
       "      <td>3.795</td>\n",
       "    </tr>\n",
       "    <tr>\n",
       "      <th>10</th>\n",
       "      <td>Armenia</td>\n",
       "      <td>5.550</td>\n",
       "      <td>4.321</td>\n",
       "    </tr>\n",
       "    <tr>\n",
       "      <th>16</th>\n",
       "      <td>Bangladesh</td>\n",
       "      <td>0.019</td>\n",
       "      <td>4.500</td>\n",
       "    </tr>\n",
       "  </tbody>\n",
       "</table>\n",
       "</div>"
      ],
      "text/plain": [
       "   Country or region  \\\n",
       "0        Afghanistan   \n",
       "3            Albania   \n",
       "6             Angola   \n",
       "10           Armenia   \n",
       "16        Bangladesh   \n",
       "\n",
       "    Total alcohol consumption per capita (liters of pure alcohol, projected estimates, 15+ years of age)  \\\n",
       "0                                               0.210                                                      \n",
       "3                                               7.170                                                      \n",
       "6                                               6.940                                                      \n",
       "10                                              5.550                                                      \n",
       "16                                              0.019                                                      \n",
       "\n",
       "    Score  \n",
       "0   3.632  \n",
       "3   4.586  \n",
       "6   3.795  \n",
       "10  4.321  \n",
       "16  4.500  "
      ]
     },
     "execution_count": 145,
     "metadata": {},
     "output_type": "execute_result"
    }
   ],
   "source": [
    "df_below_5.head()"
   ]
  },
  {
   "cell_type": "markdown",
   "id": "b8a6d9a1",
   "metadata": {},
   "source": [
    "Now we have our sample of scores below 5 from 2018. To run the t-test the only data from the sample we need is the total alcohol consumption. So we will make a new dataframe with only that data"
   ]
  },
  {
   "cell_type": "code",
   "execution_count": 146,
   "id": "52c8ab1d",
   "metadata": {},
   "outputs": [],
   "source": [
    "test3_df = df_below_5[['Total alcohol consumption per capita (liters of pure alcohol, projected estimates, 15+ years of age)']]"
   ]
  },
  {
   "cell_type": "code",
   "execution_count": 147,
   "id": "1e4d62a3",
   "metadata": {},
   "outputs": [
    {
     "data": {
      "text/html": [
       "<div>\n",
       "<style scoped>\n",
       "    .dataframe tbody tr th:only-of-type {\n",
       "        vertical-align: middle;\n",
       "    }\n",
       "\n",
       "    .dataframe tbody tr th {\n",
       "        vertical-align: top;\n",
       "    }\n",
       "\n",
       "    .dataframe thead th {\n",
       "        text-align: right;\n",
       "    }\n",
       "</style>\n",
       "<table border=\"1\" class=\"dataframe\">\n",
       "  <thead>\n",
       "    <tr style=\"text-align: right;\">\n",
       "      <th></th>\n",
       "      <th>Total alcohol consumption per capita (liters of pure alcohol, projected estimates, 15+ years of age)</th>\n",
       "    </tr>\n",
       "  </thead>\n",
       "  <tbody>\n",
       "    <tr>\n",
       "      <th>0</th>\n",
       "      <td>0.210</td>\n",
       "    </tr>\n",
       "    <tr>\n",
       "      <th>3</th>\n",
       "      <td>7.170</td>\n",
       "    </tr>\n",
       "    <tr>\n",
       "      <th>6</th>\n",
       "      <td>6.940</td>\n",
       "    </tr>\n",
       "    <tr>\n",
       "      <th>10</th>\n",
       "      <td>5.550</td>\n",
       "    </tr>\n",
       "    <tr>\n",
       "      <th>16</th>\n",
       "      <td>0.019</td>\n",
       "    </tr>\n",
       "  </tbody>\n",
       "</table>\n",
       "</div>"
      ],
      "text/plain": [
       "    Total alcohol consumption per capita (liters of pure alcohol, projected estimates, 15+ years of age)\n",
       "0                                               0.210                                                   \n",
       "3                                               7.170                                                   \n",
       "6                                               6.940                                                   \n",
       "10                                              5.550                                                   \n",
       "16                                              0.019                                                   "
      ]
     },
     "execution_count": 147,
     "metadata": {},
     "output_type": "execute_result"
    }
   ],
   "source": [
    "test3_df.head()"
   ]
  },
  {
   "cell_type": "markdown",
   "id": "656c214b",
   "metadata": {},
   "source": [
    "Now we can run the t-test and get the t-stat. We will be using a critical level/alpha of .05 as that's what's most common to use"
   ]
  },
  {
   "cell_type": "code",
   "execution_count": 148,
   "id": "d1081e71",
   "metadata": {},
   "outputs": [
    {
     "data": {
      "text/plain": [
       "Ttest_1sampResult(statistic=array([-2.91869939]), pvalue=array([0.99742565]))"
      ]
     },
     "execution_count": 148,
     "metadata": {},
     "output_type": "execute_result"
    }
   ],
   "source": [
    "stats.ttest_1samp(a=test3_df, popmean = 5.96, alternative='greater')"
   ]
  },
  {
   "cell_type": "markdown",
   "id": "bfaf3d4d",
   "metadata": {},
   "source": [
    "The t test statistic is -2.91869939"
   ]
  },
  {
   "cell_type": "markdown",
   "id": "20d315a5",
   "metadata": {},
   "source": [
    "We need to get the t-critical value and compare it to the t-stat inorder to determine if we accept or reject the null. to get this we first need to determine the degrees of freedom"
   ]
  },
  {
   "cell_type": "code",
   "execution_count": 149,
   "id": "53ecf2c2",
   "metadata": {},
   "outputs": [],
   "source": [
    "dof=len(test3_df.index)-1"
   ]
  },
  {
   "cell_type": "code",
   "execution_count": 150,
   "id": "42c76e55",
   "metadata": {},
   "outputs": [
    {
     "name": "stdout",
     "output_type": "stream",
     "text": [
      "53\n"
     ]
    }
   ],
   "source": [
    "print(dof)"
   ]
  },
  {
   "cell_type": "markdown",
   "id": "7edf41df",
   "metadata": {},
   "source": [
    "So our degrees of freedom is 53"
   ]
  },
  {
   "cell_type": "markdown",
   "id": "965149e7",
   "metadata": {},
   "source": [
    "Now we use our chosen alpha level and the degrees of freedom to find the t-critical value"
   ]
  },
  {
   "cell_type": "code",
   "execution_count": 151,
   "id": "ccee7ad4",
   "metadata": {},
   "outputs": [
    {
     "data": {
      "text/plain": [
       "1.6741162362294313"
      ]
     },
     "execution_count": 151,
     "metadata": {},
     "output_type": "execute_result"
    }
   ],
   "source": [
    "stats.t.ppf(1-.05,53)"
   ]
  },
  {
   "cell_type": "markdown",
   "id": "6573db36",
   "metadata": {},
   "source": [
    "Our t test statistic of -2.92 is less extreme than our t-critical value of 1.67. This tells us we accept reject the null hypothesis. Additionally our p-value of 0.99742565 is greater than our alpha of .05 which also tells us we should accept the null. So we can concluded that countries with an average happiness score less than 5 have an average total alcohol consumption per capita that is greater than or equal to 5.96."
   ]
  }
 ],
 "metadata": {
  "kernelspec": {
   "display_name": "Python 3 (ipykernel)",
   "language": "python",
   "name": "python3"
  },
  "language_info": {
   "codemirror_mode": {
    "name": "ipython",
    "version": 3
   },
   "file_extension": ".py",
   "mimetype": "text/x-python",
   "name": "python",
   "nbconvert_exporter": "python",
   "pygments_lexer": "ipython3",
   "version": "3.9.12"
  }
 },
 "nbformat": 4,
 "nbformat_minor": 5
}
